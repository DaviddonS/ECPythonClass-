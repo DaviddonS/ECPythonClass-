{
 "cells": [
  {
   "cell_type": "code",
   "execution_count": 1,
   "id": "b6f499ac",
   "metadata": {},
   "outputs": [
    {
     "name": "stdout",
     "output_type": "stream",
     "text": [
      "ppp\n",
      "yyy\n",
      "ttt\n",
      "hhh\n",
      "ooo\n",
      "nnn\n"
     ]
    }
   ],
   "source": [
    "#for loop\n",
    "word = 'python'\n",
    "for char in word:\n",
    "    print(char*3)"
   ]
  },
  {
   "cell_type": "code",
   "execution_count": 2,
   "id": "02cbbe28",
   "metadata": {},
   "outputs": [
    {
     "name": "stdout",
     "output_type": "stream",
     "text": [
      "ppp yyy ttt hhh ooo nnn "
     ]
    }
   ],
   "source": [
    "word = 'python'\n",
    "for char in word:\n",
    "    print(char*3, end=' ')"
   ]
  },
  {
   "cell_type": "code",
   "execution_count": 12,
   "id": "4e0e3fd1",
   "metadata": {},
   "outputs": [
    {
     "name": "stdout",
     "output_type": "stream",
     "text": [
      "Hey James this is a reminder of our meeting on friday by 12pm\n",
      "Hey David this is a reminder of our meeting on friday by 12pm\n",
      "Hey Daniel this is a reminder of our meeting on friday by 12pm\n",
      "Hey Joshua this is a reminder of our meeting on friday by 12pm\n",
      "Hey Mary this is a reminder of our meeting on friday by 12pm\n"
     ]
    }
   ],
   "source": [
    "#have a list of five friends\n",
    "#hey {name}, this is a reminder of our meeting on friday, 12pm\n",
    "\n",
    "friends=['James', 'David', 'Daniel', 'Joshua', 'Mary']\n",
    "for greeting in friends:\n",
    "    print('Hey ' + greeting+ ' this is a reminder of our meeting on friday by 12pm')\n"
   ]
  },
  {
   "cell_type": "code",
   "execution_count": 22,
   "id": "f5aef512",
   "metadata": {},
   "outputs": [
    {
     "name": "stdout",
     "output_type": "stream",
     "text": [
      "Product out of stock\n",
      "The total cost of items in the cart is N40500.0\n"
     ]
    }
   ],
   "source": [
    "#program to check if an item is in stock and calculate the total cost of items in the shopping cart\n",
    "products = {\n",
    "    'item1':{'Name': 'Big Burger', 'Price':3000.00, 'stock':30},\n",
    "     'item2':{'Name': 'Small Burger', 'Price': 1500.00, 'stock':60},\n",
    "     'item3':{'Name': 'Chicken Pie Burger', 'Price':900.00, 'stock':100},\n",
    "}\n",
    "\n",
    "cart = []\n",
    "totalcost = 0\n",
    "cart.append(('item1', 50))\n",
    "cart.append(('item2', 15))\n",
    "cart.append(('item3', 20))\n",
    "for item in cart:\n",
    "            id, quantity = item\n",
    "            if id in products and products[id]['stock'] >= quantity:\n",
    "                totalcost += products[id]['Price'] * quantity\n",
    "            else:\n",
    "                print('Product out of stock')\n",
    "if totalcost > 0:\n",
    "            print(f'The total cost of items in the cart is N{totalcost}')\n",
    "else:\n",
    "            print('No item in the cart')\n",
    "            "
   ]
  },
  {
   "cell_type": "code",
   "execution_count": 31,
   "id": "612c0cc8",
   "metadata": {},
   "outputs": [
    {
     "name": "stdout",
     "output_type": "stream",
     "text": [
      "Enter a number4\n",
      "The Square Root of 4 is 2.0\n",
      "Enter a number5\n",
      "The Square Root of 5 is 2.23606797749979\n",
      "Enter a number9\n",
      "The Square Root of 9 is 3.0\n",
      "Enter a number0\n"
     ]
    }
   ],
   "source": [
    "#while loop\n",
    "usernumber = int(input('Enter a number'))\n",
    "import math\n",
    "counter = 0\n",
    "while usernumber != 0:\n",
    "    print(f'The Square Root of {usernumber} is {math.sqrt(usernumber)}')\n",
    "    counter+=1\n",
    "    usernumber = int(input('Enter a number'))\n"
   ]
  },
  {
   "cell_type": "code",
   "execution_count": 32,
   "id": "ce57eeb7",
   "metadata": {},
   "outputs": [
    {
     "data": {
      "text/plain": [
       "3"
      ]
     },
     "execution_count": 32,
     "metadata": {},
     "output_type": "execute_result"
    }
   ],
   "source": [
    "counter"
   ]
  },
  {
   "cell_type": "code",
   "execution_count": 37,
   "id": "5dc3b128",
   "metadata": {},
   "outputs": [
    {
     "name": "stdout",
     "output_type": "stream",
     "text": [
      "Enter your username:gttg\n",
      "Enter your password:lii\n",
      "Login failed\n",
      "Enter your username:Akindeke\n",
      "Enter your password:David2022\n",
      "Login failed\n",
      "Enter your username:Akindele\n",
      "Enter your password:David2021\n",
      "Login failed\n",
      "Maximum Login Reached. Account Locked....\n"
     ]
    }
   ],
   "source": [
    "#authentication system that checks a user credentials to allow maximum attempt of 3 times login\n",
    "max_amount = 3\n",
    "login_attempt = 0\n",
    "correctpassword = 'Akindele'\n",
    "correctusername = 'David2022'\n",
    "while login_attempt < max_amount:\n",
    "    username = input('Enter your username:')\n",
    "    password = input('Enter your password:')\n",
    "    if username == correctusername and password == correctpassword:\n",
    "        print('Access Granted.........')\n",
    "        break  \n",
    "    else:\n",
    "        print('Login failed')\n",
    "        login_attempt +=1\n",
    "        \n",
    "if login_attempt == max_amount:\n",
    "    print('Maximum Login Reached. Account Locked....')\n",
    "    "
   ]
  },
  {
   "cell_type": "code",
   "execution_count": 43,
   "id": "3f208b98",
   "metadata": {},
   "outputs": [
    {
     "name": "stdout",
     "output_type": "stream",
     "text": [
      "Enter a number6\n",
      " 6 * 1 = 6\n",
      " 6 * 2 = 12\n",
      " 6 * 3 = 18\n",
      " 6 * 4 = 24\n",
      " 6 * 5 = 30\n",
      " 6 * 6 = 36\n",
      " 6 * 7 = 42\n",
      " 6 * 8 = 48\n",
      " 6 * 9 = 54\n",
      " 6 * 10 = 60\n",
      " 6 * 11 = 66\n",
      " 6 * 12 = 72\n"
     ]
    }
   ],
   "source": [
    "#use a while loop to generate a time table from 1 to 12 with  user's number\n",
    "Digit = int(input('Enter a number'))\n",
    "limit = 1\n",
    "while limit <=12:\n",
    "    print(f' {Digit} * {limit} = {Digit * limit}')\n",
    "    limit+=1"
   ]
  },
  {
   "cell_type": "code",
   "execution_count": 44,
   "id": "17ff2517",
   "metadata": {},
   "outputs": [
    {
     "name": "stdout",
     "output_type": "stream",
     "text": [
      "\n",
      "Round 1\n",
      "User 1 rolled: 6\n",
      "User 2 rolled: 5\n",
      "User 1 wins this round!\n",
      "\n",
      "Round 2\n",
      "User 1 rolled: 1\n",
      "User 2 rolled: 6\n",
      "User 2 wins this round!\n",
      "\n",
      "Round 3\n",
      "User 1 rolled: 4\n",
      "User 2 rolled: 4\n",
      "It's a tie!\n",
      "\n",
      "Round 4\n",
      "User 1 rolled: 1\n",
      "User 2 rolled: 5\n",
      "User 2 wins this round!\n",
      "\n",
      "Round 5\n",
      "User 1 rolled: 2\n",
      "User 2 rolled: 1\n",
      "User 1 wins this round!\n",
      "\n",
      "Round 6\n",
      "User 1 rolled: 2\n",
      "User 2 rolled: 6\n",
      "User 2 wins this round!\n",
      "\n",
      "Round 7\n",
      "User 1 rolled: 2\n",
      "User 2 rolled: 6\n",
      "User 2 wins this round!\n",
      "\n",
      "Round 8\n",
      "User 1 rolled: 5\n",
      "User 2 rolled: 2\n",
      "User 1 wins this round!\n",
      "\n",
      "Round 9\n",
      "User 1 rolled: 5\n",
      "User 2 rolled: 3\n",
      "User 1 wins this round!\n",
      "\n",
      "Round 10\n",
      "User 1 rolled: 2\n",
      "User 2 rolled: 4\n",
      "User 2 wins this round!\n",
      "\n",
      "Overall winner: User 2!\n"
     ]
    }
   ],
   "source": [
    "import random\n",
    "\n",
    "user1_score = 0\n",
    "user2_score = 0\n",
    "\n",
    "rounds = 10\n",
    "while rounds > 0:\n",
    "   print(\"\\nRound\", 11 - rounds)\n",
    "\n",
    "   # Roll the dice for user 1\n",
    "   user1_roll = random.randint(1, 6)\n",
    "   print(\"User 1 rolled:\", user1_roll)\n",
    "\n",
    "   # Roll the dice for user 2\n",
    "   user2_roll = random.randint(1, 6)\n",
    "   print(\"User 2 rolled:\", user2_roll)\n",
    "\n",
    "   # Determine the winner of the round\n",
    "   if user1_roll > user2_roll:\n",
    "       user1_score += 1\n",
    "       print(\"User 1 wins this round!\")\n",
    "   elif user2_roll > user1_roll:\n",
    "       user2_score += 1\n",
    "       print(\"User 2 wins this round!\")\n",
    "   else:\n",
    "       print(\"It's a tie!\")\n",
    "\n",
    "   rounds -= 1  # Decrement the number of rounds remaining\n",
    "\n",
    "# Declare the overall winner\n",
    "if user1_score > user2_score:\n",
    "   print(\"\\nOverall winner: User 1!\")\n",
    "elif user2_score > user1_score:\n",
    "   print(\"\\nOverall winner: User 2!\")\n",
    "else:\n",
    "   print(\"\\nIt's a tie overall!\")\n"
   ]
  },
  {
   "cell_type": "code",
   "execution_count": null,
   "id": "0fafbd2b",
   "metadata": {},
   "outputs": [],
   "source": []
  }
 ],
 "metadata": {
  "kernelspec": {
   "display_name": "Python 3 (ipykernel)",
   "language": "python",
   "name": "python3"
  },
  "language_info": {
   "codemirror_mode": {
    "name": "ipython",
    "version": 3
   },
   "file_extension": ".py",
   "mimetype": "text/x-python",
   "name": "python",
   "nbconvert_exporter": "python",
   "pygments_lexer": "ipython3",
   "version": "3.11.5"
  }
 },
 "nbformat": 4,
 "nbformat_minor": 5
}
