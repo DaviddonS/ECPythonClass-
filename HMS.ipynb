{
 "cells": [
  {
   "cell_type": "code",
   "execution_count": null,
   "id": "05c16290",
   "metadata": {},
   "outputs": [],
   "source": [
    "#hospital appointment system\n",
    "#Patient Id(int, primary key not null), Patient Name (varchar 250 not null), PatientDOB (date not null), PatientDateofApp (date not  null), PatientAddress (text not null),\n",
    "#PatientGender (varchar(50) not null), PatientContact(varchar (11) not  null, PatientInsurance(varchar(5) not null), PatientPayment(float not null)\n",
    "#ADD APPOINTMENT\n",
    "#UPDATE APPOINTMENT\n",
    "#SEARCH APPOINTMENT\n",
    "#DISPLAY APPOINTMENTS\n",
    "#CANCEL APPOINTMENTS\n",
    "\n"
   ]
  },
  {
   "cell_type": "code",
   "execution_count": 5,
   "id": "fb09c5c1",
   "metadata": {},
   "outputs": [],
   "source": [
    "import pymysql"
   ]
  },
  {
   "cell_type": "code",
   "execution_count": 6,
   "id": "8bbfafcd",
   "metadata": {},
   "outputs": [],
   "source": [
    "Newdb = pymysql.connect(\n",
    "    host = 'localhost',\n",
    "    port = 3306,\n",
    "    user = 'root',\n",
    "    password = 'Akindele21$'\n",
    ")\n",
    "\n",
    "mycursor = Newdb.cursor()"
   ]
  },
  {
   "cell_type": "code",
   "execution_count": 4,
   "id": "bf3aaaf6",
   "metadata": {},
   "outputs": [
    {
     "name": "stdout",
     "output_type": "stream",
     "text": [
      "('davekitchen',)\n",
      "('earlycodeacademy',)\n",
      "('earlycodeacademy2',)\n",
      "('employee_system',)\n",
      "('information_schema',)\n",
      "('j_waec_system',)\n",
      "('mysql',)\n",
      "('performance_schema',)\n",
      "('primeacademy',)\n",
      "('sakila',)\n",
      "('sys',)\n",
      "('world',)\n"
     ]
    }
   ],
   "source": [
    "mycursor.execute('show databases')\n",
    "for x in mycursor:\n",
    "    print(x)"
   ]
  },
  {
   "cell_type": "code",
   "execution_count": 5,
   "id": "ffd610dc",
   "metadata": {},
   "outputs": [
    {
     "data": {
      "text/plain": [
       "1"
      ]
     },
     "execution_count": 5,
     "metadata": {},
     "output_type": "execute_result"
    }
   ],
   "source": [
    "mycursor.execute('create database Hospital_Management_System')"
   ]
  },
  {
   "cell_type": "code",
   "execution_count": 7,
   "id": "d9555c6d",
   "metadata": {},
   "outputs": [
    {
     "name": "stdout",
     "output_type": "stream",
     "text": [
      "('davekitchen',)\n",
      "('earlycodeacademy',)\n",
      "('earlycodeacademy2',)\n",
      "('employee_system',)\n",
      "('hospital_management_system',)\n",
      "('information_schema',)\n",
      "('j_waec_system',)\n",
      "('mysql',)\n",
      "('performance_schema',)\n",
      "('primeacademy',)\n",
      "('sakila',)\n",
      "('sys',)\n",
      "('world',)\n"
     ]
    }
   ],
   "source": [
    "mycursor.execute('show databases')\n",
    "for x in mycursor:\n",
    "    print(x)"
   ]
  },
  {
   "cell_type": "code",
   "execution_count": 8,
   "id": "ad7e7c1b",
   "metadata": {},
   "outputs": [],
   "source": [
    "Newdb = pymysql.connect(\n",
    "    host = 'localhost',\n",
    "    port = 3306,\n",
    "    user = 'root',\n",
    "    password = 'Akindele21$',\n",
    "    database = 'Hospital_Management_System'\n",
    ")\n",
    "\n",
    "mycursor = Newdb.cursor()\n"
   ]
  },
  {
   "cell_type": "code",
   "execution_count": 8,
   "id": "f8e5b855",
   "metadata": {},
   "outputs": [
    {
     "data": {
      "text/plain": [
       "0"
      ]
     },
     "execution_count": 8,
     "metadata": {},
     "output_type": "execute_result"
    }
   ],
   "source": [
    "mycursor.execute('create table Patients(PatientID int primary key not null, PatientName varchar(250) not null, PatientDOB date not null, PatientDateofApp date not null, PatientAddress text not null, PatientGender varchar(20) not null, PatientContact varchar(11) not null, PatientInsurance varchar(3) not null, PatientPayment float not null)')"
   ]
  },
  {
   "cell_type": "code",
   "execution_count": 9,
   "id": "f20c38e5",
   "metadata": {},
   "outputs": [
    {
     "name": "stdout",
     "output_type": "stream",
     "text": [
      "('PatientID', 'int', 'NO', 'PRI', None, '')\n",
      "('PatientName', 'varchar(250)', 'NO', '', None, '')\n",
      "('PatientDOB', 'date', 'NO', '', None, '')\n",
      "('PatientDateofApp', 'date', 'NO', '', None, '')\n",
      "('PatientAddress', 'text', 'NO', '', None, '')\n",
      "('PatientGender', 'varchar(20)', 'NO', '', None, '')\n",
      "('PatientContact', 'varchar(11)', 'NO', '', None, '')\n",
      "('PatientInsurance', 'varchar(3)', 'NO', '', None, '')\n",
      "('PatientPayment', 'float', 'NO', '', None, '')\n"
     ]
    }
   ],
   "source": [
    "mycursor.execute('show columns from Patients')\n",
    "for c in mycursor:\n",
    "    print(c)"
   ]
  },
  {
   "cell_type": "code",
   "execution_count": 17,
   "id": "f6b439b9",
   "metadata": {},
   "outputs": [],
   "source": [
    "def Schedule_Appointment():\n",
    "    PatientID = int(input('Enter Patient ID Number: '))\n",
    "    PatientName = input('Enter Patient Fullname: ')\n",
    "    PatientDOB = input('Enter Patient Date of Birth (YYYY-MM-DD): ')\n",
    "    PatientDateofApp = input('Enter Patient Scheduled Date of Appointment (YYYY-MM-DD): ')\n",
    "    PatientAddress = input('Enter Patient Residential Address: ')\n",
    "    PatientGender = input('Enter Patient Gender: ')\n",
    "    PatientContact = input('Enter Patient Contact Number: ')\n",
    "    PatientInsurance = input('Enter status of Patient Insurance: ')\n",
    "    PatientPayment = int(input('Enter Patient Price of Appointment: '))\n",
    "    \n",
    "    query = \"insert into Patients(PatientID, PatientName, PatientDOB, PatientDateofApp, PatientAddress, PatientGender, PatientContact, PatientInsurance, PatientPayment)values(%s, %s, %s, %s, %s, %s, %s, %s, %s)\"\n",
    "    mycursor.execute(query,(PatientID, PatientName, PatientDOB, PatientDateofApp, PatientAddress, PatientGender, PatientContact, PatientInsurance, PatientPayment))\n",
    "    Newdb.commit()\n",
    "    print(\"Appointment Scheduled Successfully\")\n",
    "    \n",
    "def Update_Appointment():\n",
    "    PatientID = int(input('Enter Patient ID: '))\n",
    "    Column = input('Enter column to be updated: ')\n",
    "    Newinput = input('Enter the new value: ')\n",
    "    query = f'update Patients set {Column} = %s where PatientID = %s'\n",
    "    mycursor.execute(query, (Newinput, PatientID))\n",
    "    Newdb.commit()\n",
    "    print(\"Appointment Updated Successfully\")\n",
    "    \n",
    "def Search_Appointment():\n",
    "    PatientID = int(input('Enter Patient ID'))\n",
    "    query = 'select * from Patients where PatientID = \"%s\" '\n",
    "    mycursor.execute(query,(PatientID,))\n",
    "    Result = mycursor.fetchall()\n",
    "    if len(Result) == 0:\n",
    "        print(\"Invalid Record\")\n",
    "    else:\n",
    "        for x in Result:\n",
    "            print(x)\n",
    "    \n",
    "def Display_Appointments():\n",
    "    mycursor.execute('select * from Patients')\n",
    "    for x in mycursor:\n",
    "        print(x)\n",
    "        \n",
    "def Cancel_Appointment():\n",
    "    PatientID = int(input('Enter Patient ID'))\n",
    "    query = 'delete from Patients where PatientID = %s'\n",
    "    mycursor.execute(query, (PatientID))\n",
    "    Newdb.commit()\n",
    "    print('Appointment has been cancelled successfully')\n",
    "    \n",
    "\n",
    "def HMS():\n",
    "    print('Welcome Dr David')\n",
    "    print('Operation List [1. Schedule Appointment, 2. Edit Scheduled Appointment, 3. Search Appointment, 4. Display Appointments, 5. Cancel Appointments, 6. Quit]')\n",
    "    operation = True\n",
    "    while operation:\n",
    "        option = input('Select Operation from Operation List: ')\n",
    "        if option == 'Schedule Appointment'.lower():\n",
    "            Schedule_Appointment()\n",
    "        elif option == 'Edit Appointment'.lower():\n",
    "            Update_Appointment()\n",
    "        elif option == 'Search Appointment'.lower():\n",
    "            Search_Appointment()\n",
    "        elif option == 'Display Appointment'.lower():\n",
    "            Display_Appointments()\n",
    "        elif option == 'Cancel Appointment'.lower():\n",
    "            Cancel_Appointment()\n",
    "        elif option == 'Quit'.lower():\n",
    "            operation = False\n",
    "            print('System Logout')\n",
    "            break\n",
    "            \n",
    "        "
   ]
  },
  {
   "cell_type": "code",
   "execution_count": 19,
   "id": "ffa583c9",
   "metadata": {},
   "outputs": [
    {
     "name": "stdout",
     "output_type": "stream",
     "text": [
      "Welcome Dr David\n",
      "Operation List [1. Schedule Appointment, 2. Edit Scheduled Appointment, 3. Search Appointment, 4. Display Appointments, 5. Cancel Appointments, 6. Quit]\n",
      "Select Operation from Operation List: quit\n",
      "System Logout\n"
     ]
    }
   ],
   "source": [
    "HMS()\n",
    "#install vs code\n",
    "#on windows power shell:  pip install numpy, pandas, matplotlib, seaborn, plotly, scikit-learn, nltk, wordcloud, wheel\n",
    "#missingro, xlxswriter, nbformat >= 4.2.0, scipy, ipykernel"
   ]
  },
  {
   "cell_type": "code",
   "execution_count": null,
   "id": "d48cbb8d",
   "metadata": {},
   "outputs": [],
   "source": []
  }
 ],
 "metadata": {
  "kernelspec": {
   "display_name": "Python 3 (ipykernel)",
   "language": "python",
   "name": "python3"
  },
  "language_info": {
   "codemirror_mode": {
    "name": "ipython",
    "version": 3
   },
   "file_extension": ".py",
   "mimetype": "text/x-python",
   "name": "python",
   "nbconvert_exporter": "python",
   "pygments_lexer": "ipython3",
   "version": "3.11.5"
  }
 },
 "nbformat": 4,
 "nbformat_minor": 5
}
