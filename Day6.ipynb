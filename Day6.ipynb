{
 "cells": [
  {
   "cell_type": "code",
   "execution_count": 1,
   "id": "abd249e1",
   "metadata": {},
   "outputs": [],
   "source": [
    "#functions\n",
    "def greet():\n",
    "    print('Welcome to python class')"
   ]
  },
  {
   "cell_type": "code",
   "execution_count": 2,
   "id": "5544326e",
   "metadata": {},
   "outputs": [
    {
     "name": "stdout",
     "output_type": "stream",
     "text": [
      "Welcome to python class\n",
      "None\n"
     ]
    }
   ],
   "source": [
    "print(greet())"
   ]
  },
  {
   "cell_type": "code",
   "execution_count": 3,
   "id": "9cea2c86",
   "metadata": {},
   "outputs": [
    {
     "name": "stdout",
     "output_type": "stream",
     "text": [
      "Welcome to python class\n"
     ]
    }
   ],
   "source": [
    "greet()"
   ]
  },
  {
   "cell_type": "code",
   "execution_count": 14,
   "id": "d8588655",
   "metadata": {},
   "outputs": [],
   "source": [
    "def juices():\n",
    "    print(['mango', 'orange', 'apple'])"
   ]
  },
  {
   "cell_type": "code",
   "execution_count": 15,
   "id": "afe2fa74",
   "metadata": {},
   "outputs": [
    {
     "name": "stdout",
     "output_type": "stream",
     "text": [
      "['mango', 'orange', 'apple']\n",
      "None\n"
     ]
    }
   ],
   "source": [
    "print (juices())"
   ]
  },
  {
   "cell_type": "code",
   "execution_count": 16,
   "id": "ab6e8053",
   "metadata": {},
   "outputs": [
    {
     "name": "stdout",
     "output_type": "stream",
     "text": [
      "['mango', 'orange', 'apple']\n"
     ]
    }
   ],
   "source": [
    "juices()"
   ]
  },
  {
   "cell_type": "code",
   "execution_count": 18,
   "id": "14bc4391",
   "metadata": {},
   "outputs": [
    {
     "name": "stdout",
     "output_type": "stream",
     "text": [
      "You are not old enough to vote\n"
     ]
    }
   ],
   "source": [
    "#parameter is a variable used in function or method. It is a placeholder for the actual value called argument\n",
    "\n",
    "#function to check eligibility of voter\n",
    "def votecheck(name, gender, age):\n",
    "    if age >= 18:\n",
    "        print('You are eligible to vote')\n",
    "    else:\n",
    "        print('You are not old enough to vote')\n",
    "        \n",
    "votecheck('David', 'Male', 17)"
   ]
  },
  {
   "cell_type": "code",
   "execution_count": 20,
   "id": "20d9b06c",
   "metadata": {},
   "outputs": [
    {
     "name": "stdout",
     "output_type": "stream",
     "text": [
      "Enroll for our rugby sports\n"
     ]
    }
   ],
   "source": [
    "#fucntion to check weight of the person and assign them to different sports\n",
    "def human(name, gender, weight):\n",
    "    if weight >= 175:\n",
    "        print('Enroll for our rugby sports')\n",
    "    else:\n",
    "        print('Enroll for our football games')\n",
    "        \n",
    "human('Dele', 'Male', 176)"
   ]
  },
  {
   "cell_type": "code",
   "execution_count": 27,
   "id": "55583c15",
   "metadata": {},
   "outputs": [
    {
     "name": "stdout",
     "output_type": "stream",
     "text": [
      "Enroll for our football games\n"
     ]
    }
   ],
   "source": [
    "#function with default parameter\n",
    "#default parameter must be at the last. \n",
    "def human(name, gender, weight = 180):\n",
    "    if weight >= 175:\n",
    "        print('Enroll for our rugby sports')\n",
    "    else:\n",
    "        print('Enroll for our football games')\n",
    "        \n",
    "human('Dele', 'Male', 174)\n"
   ]
  },
  {
   "cell_type": "code",
   "execution_count": 36,
   "id": "7f3c97fe",
   "metadata": {},
   "outputs": [
    {
     "name": "stdout",
     "output_type": "stream",
     "text": [
      "PLAYER ONE DICE OUTCOME: 8\n",
      "PLAYER ONE DICE OUTCOME: 3\n",
      "PLAYER ONE WINS.....\n",
      "PLAYER ONE DICE OUTCOME: 8\n",
      "PLAYER ONE DICE OUTCOME: 3\n",
      "PLAYER ONE WINS.....\n",
      "PLAYER ONE DICE OUTCOME: 6\n",
      "PLAYER ONE DICE OUTCOME: 7\n",
      "PLAYER TWO WINS.....\n",
      "PLAYER ONE DICE OUTCOME: 4\n",
      "PLAYER ONE DICE OUTCOME: 8\n",
      "PLAYER TWO WINS.....\n",
      "PLAYER ONE DICE OUTCOME: 3\n",
      "PLAYER ONE DICE OUTCOME: 5\n",
      "PLAYER TWO WINS.....\n",
      "PLAYER ONE DICE OUTCOME: 6\n",
      "PLAYER ONE DICE OUTCOME: 11\n",
      "PLAYER TWO WINS.....\n",
      "PLAYER ONE DICE OUTCOME: 7\n",
      "PLAYER ONE DICE OUTCOME: 7\n",
      "IT IS A TIE\n",
      "PLAYER ONE DICE OUTCOME: 7\n",
      "PLAYER ONE DICE OUTCOME: 8\n",
      "PLAYER TWO WINS.....\n",
      "PLAYER ONE DICE OUTCOME: 3\n",
      "PLAYER ONE DICE OUTCOME: 8\n",
      "PLAYER TWO WINS.....\n",
      "PLAYER ONE DICE OUTCOME: 2\n",
      "PLAYER ONE DICE OUTCOME: 6\n",
      "PLAYER TWO WINS.....\n",
      "Player two is the overall winner by a total of 75 points\n"
     ]
    }
   ],
   "source": [
    "#assignment for rolling dice using function\n",
    "def rolldice():\n",
    "    import random\n",
    "    playeronescore = 0\n",
    "    playertwoscore = 0\n",
    "    counter = 1\n",
    "    while counter <= 10:\n",
    "        dice1 = random.randint(1,6) + random.randint(1,6)\n",
    "        dice2 = random.randint(1,6) + random.randint(1,6)\n",
    "        if dice1 > dice2:\n",
    "            print('PLAYER ONE DICE OUTCOME:', dice1)\n",
    "            print('PLAYER ONE DICE OUTCOME:', dice2)\n",
    "            print('PLAYER ONE WINS.....')\n",
    "            playeronescore +=10\n",
    "            \n",
    "        elif dice2 > dice1:\n",
    "            print('PLAYER ONE DICE OUTCOME:', dice1)\n",
    "            print('PLAYER ONE DICE OUTCOME:', dice2)\n",
    "            print('PLAYER TWO WINS.....')\n",
    "            playertwoscore +=10\n",
    "            \n",
    "        else:\n",
    "            print('PLAYER ONE DICE OUTCOME:', dice1)\n",
    "            print('PLAYER ONE DICE OUTCOME:', dice2)\n",
    "            print('IT IS A TIE')\n",
    "            playertwoscore +=5\n",
    "            playeronescore +=5\n",
    "            \n",
    "        counter +=1\n",
    "        \n",
    "    if playeronescore > playertwoscore:\n",
    "        print(f'Player one is the overall winner by a total of {playeronescore} points')\n",
    "    elif playertwoscore > playeronescore:\n",
    "        print(f'Player two is the overall winner by a total of {playertwoscore} points')\n",
    "    else:\n",
    "        print('There is no winner, the game ends in a draw')\n",
    "rolldice()\n",
    "        \n",
    "        \n",
    "            "
   ]
  },
  {
   "cell_type": "code",
   "execution_count": 38,
   "id": "c2ce1586",
   "metadata": {},
   "outputs": [
    {
     "name": "stdout",
     "output_type": "stream",
     "text": [
      "\n",
      "MENU\n",
      "Pizza: $15.00\n",
      "Sandwich: $7.50\n",
      "Salad: $4.99\n",
      "Fries: $3.99\n",
      "Burger: $8.00\n",
      "Enter the food item you want to order (or done to finish)burger\n",
      "HOW MANY burgers DO YOU WANT TO ORDER?5\n",
      "\n",
      "MENU\n",
      "Pizza: $15.00\n",
      "Sandwich: $7.50\n",
      "Salad: $4.99\n",
      "Fries: $3.99\n",
      "Burger: $8.00\n",
      "Enter the food item you want to order (or done to finish)done\n",
      "\n",
      "RECEIPT\n",
      "Burger:5 x $8.00 = $40.0\n",
      "Total Price is  40.0\n"
     ]
    }
   ],
   "source": [
    "#function that allows a user to continously order food items until they choose to stop.\n",
    "#It will then calculate the price of the items and print a receipt\n",
    "\n",
    "def Orderfood():\n",
    "    menu = {\n",
    "        'pizza':15.0,\n",
    "        'sandwich': 7.5,\n",
    "        'salad': 4.99,\n",
    "        'fries': 3.99,\n",
    "        'burger':8.00\n",
    "    }\n",
    "    order ={}\n",
    "    totalprice=0.0\n",
    "    while True:\n",
    "        print('\\nMENU')\n",
    "        for item,price in menu.items():\n",
    "            print(f'{item.capitalize()}: ${price:.2f}')\n",
    "        userchoice = input('Enter the food item you want to order (or done to finish)').lower()\n",
    "    \n",
    "        if userchoice == \"done\":\n",
    "            break\n",
    "        if userchoice in menu:\n",
    "            quantity = int(input(f'HOW MANY {userchoice}s DO YOU WANT TO ORDER?'))\n",
    "            order[userchoice] = quantity\n",
    "            totalprice += menu[userchoice] * quantity\n",
    "        else:\n",
    "            print('Invalid choice, choose from the menu.')\n",
    "    print('\\nRECEIPT')\n",
    "    for item, quantity in order.items():\n",
    "        print(f'{item.capitalize()}:{quantity} x ${price:.2f} = ${menu[item] * quantity}')\n",
    "        print('Total Price is ', totalprice)\n",
    "Orderfood()"
   ]
  },
  {
   "cell_type": "code",
   "execution_count": null,
   "id": "6f19e1b0",
   "metadata": {},
   "outputs": [],
   "source": []
  }
 ],
 "metadata": {
  "kernelspec": {
   "display_name": "Python 3 (ipykernel)",
   "language": "python",
   "name": "python3"
  },
  "language_info": {
   "codemirror_mode": {
    "name": "ipython",
    "version": 3
   },
   "file_extension": ".py",
   "mimetype": "text/x-python",
   "name": "python",
   "nbconvert_exporter": "python",
   "pygments_lexer": "ipython3",
   "version": "3.11.5"
  }
 },
 "nbformat": 4,
 "nbformat_minor": 5
}
