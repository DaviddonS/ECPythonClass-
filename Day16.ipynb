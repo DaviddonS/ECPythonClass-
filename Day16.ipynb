{
 "cells": [
  {
   "cell_type": "code",
   "execution_count": 9,
   "id": "d1138635",
   "metadata": {},
   "outputs": [],
   "source": [
    "#pymysql is a module used to link Python to mysql environment\n",
    "import pymysql"
   ]
  },
  {
   "cell_type": "code",
   "execution_count": 10,
   "id": "ac03a3bf",
   "metadata": {},
   "outputs": [],
   "source": [
    "mydb = pymysql.connect(\n",
    "    host = 'localhost',\n",
    "    port = 3306,\n",
    "    user = 'root',\n",
    "    password = 'Akindele21$'\n",
    ")\n",
    "\n",
    "mycursor = mydb.cursor()"
   ]
  },
  {
   "cell_type": "code",
   "execution_count": 11,
   "id": "3f7c5845",
   "metadata": {},
   "outputs": [
    {
     "name": "stdout",
     "output_type": "stream",
     "text": [
      "('davekitchen',)\n",
      "('earlycodeacademy',)\n",
      "('earlycodeacademy2',)\n",
      "('employee_system',)\n",
      "('information_schema',)\n",
      "('j_waec_system',)\n",
      "('mysql',)\n",
      "('performance_schema',)\n",
      "('sakila',)\n",
      "('sys',)\n",
      "('world',)\n"
     ]
    }
   ],
   "source": [
    "mycursor.execute('show databases')\n",
    "for x in mycursor:\n",
    "    print(x)"
   ]
  },
  {
   "cell_type": "code",
   "execution_count": 16,
   "id": "d422c083",
   "metadata": {},
   "outputs": [
    {
     "data": {
      "text/plain": [
       "0"
      ]
     },
     "execution_count": 16,
     "metadata": {},
     "output_type": "execute_result"
    }
   ],
   "source": [
    "mycursor.execute('drop database PrimeAcademy')"
   ]
  },
  {
   "cell_type": "code",
   "execution_count": 19,
   "id": "becbf9d6",
   "metadata": {},
   "outputs": [
    {
     "name": "stdout",
     "output_type": "stream",
     "text": [
      "('davekitchen',)\n",
      "('earlycodeacademy',)\n",
      "('earlycodeacademy2',)\n",
      "('employee_system',)\n",
      "('information_schema',)\n",
      "('j_waec_system',)\n",
      "('mysql',)\n",
      "('performance_schema',)\n",
      "('primeacademy',)\n",
      "('sakila',)\n",
      "('sys',)\n",
      "('world',)\n"
     ]
    }
   ],
   "source": [
    "mycursor.execute('show databases')\n",
    "for x in mycursor:\n",
    "    print(x)"
   ]
  },
  {
   "cell_type": "code",
   "execution_count": 18,
   "id": "f6346059",
   "metadata": {},
   "outputs": [
    {
     "data": {
      "text/plain": [
       "1"
      ]
     },
     "execution_count": 18,
     "metadata": {},
     "output_type": "execute_result"
    }
   ],
   "source": [
    "mycursor.execute('create database PrimeAcademy')"
   ]
  },
  {
   "cell_type": "code",
   "execution_count": 10,
   "id": "6a0df78c",
   "metadata": {},
   "outputs": [],
   "source": [
    "mydb = pymysql.connect(\n",
    "    host = 'localhost',\n",
    "    port = 3306,\n",
    "    user = 'root',\n",
    "    password = 'Akindele21$',\n",
    "    database = 'primeacademy'\n",
    ")\n",
    "\n",
    "mycursor = mydb.cursor()\n",
    "\n",
    "#id,name, age,gender, dob, address, guardian, guardiancontact"
   ]
  },
  {
   "cell_type": "code",
   "execution_count": 23,
   "id": "e6f0d8ac",
   "metadata": {
    "scrolled": true
   },
   "outputs": [
    {
     "name": "stdout",
     "output_type": "stream",
     "text": [
      "('id', 'int', 'NO', 'PRI', None, '')\n",
      "('Name', 'varchar(255)', 'NO', '', None, '')\n",
      "('Age', 'int', 'NO', '', None, '')\n",
      "('Gender', 'varchar(40)', 'NO', '', None, '')\n",
      "('DOB', 'date', 'NO', '', None, '')\n",
      "('Address', 'text', 'NO', '', None, '')\n",
      "('Guardian', 'varchar(255)', 'NO', '', None, '')\n",
      "('Guardian_Contact', 'varchar(50)', 'NO', '', None, '')\n"
     ]
    }
   ],
   "source": [
    "mycursor.execute('create table students(id int primary key not null, Name varchar(255) not null, Age int not null,Gender varchar(40) not null, DOB date not null, Address text not null, Guardian varchar(255) not null,Guardian_Contact varchar(50) not null)')\n",
    "\n",
    "mycursor.execute('show columns from students')\n",
    "for x in mycursor:\n",
    "    print(x)"
   ]
  },
  {
   "cell_type": "code",
   "execution_count": 23,
   "id": "ae3d5d5d",
   "metadata": {},
   "outputs": [],
   "source": [
    "def Accept_Record():\n",
    "    id = int(input(\"Enter Student ID: \"))\n",
    "    Name = input(\"Enter Student Name: \")\n",
    "    Age = int(input(\"Enter age of student: \"))\n",
    "    Gender = input(\"Enter student gender (Male/Female/Other): \")\n",
    "    DOB = input(\"Enter student date of birth (YYYY-MM-DD): \")\n",
    "    Address = input(\"Enter student address: \")\n",
    "    Guardian = input(\"Enter student guardian: \")\n",
    "    Guardian_Contact = input(\"Enter student guardian contact: \")\n",
    "    \n",
    "    query = \"insert into students(id, Name, Age, Gender, DOB, Address, Guardian, Guardian_Contact)values(%s,%s,%s,%s,%s,%s,%s,%s)\"\n",
    "    mycursor.execute(query,(id, Name, Age, Gender, DOB, Address, Guardian, Guardian_Contact))\n",
    "    mydb.commit() #enables records stay on a table permanently\n",
    "    print('Record inserted successfully...')\n",
    "    \n",
    "def Search_Record():\n",
    "    id = int(input(\"Enter Search id: \"))\n",
    "        \n",
    "    query = 'select * from students where id = \"%s\"'  \n",
    "    mycursor.execute(query,(id,))\n",
    "    result = mycursor.fetchall()\n",
    "    if len(result) == 0:\n",
    "        print(\"Record not found\")\n",
    "    else:\n",
    "        for x in result:\n",
    "            print(x)\n",
    "            \n",
    "def Display_Records():\n",
    "    mycursor.execute('select * from students')\n",
    "    for x in mycursor:\n",
    "        print(x)\n",
    "    \n",
    "def Update_Record():\n",
    "    id = int(input(\"Enter Search id: \"))\n",
    "    column = input('Enter the columm to to be updated: ')\n",
    "    newval = input('Enter the new value:')\n",
    "    query = f'update students set {column} = %s where id  = %s'\n",
    "    mycursor.execute(query, (newval, id))\n",
    "    mydb.commit()\n",
    "    print('record updated sucesssfly...'/)   \n",
    "                    \n",
    "def Archive_Record():\n",
    "    id = int(input('Enter ID to be Deleted: '))\n",
    "    query = 'delete from students where id = %s'\n",
    "    mycursor.execute(query,(id,))\n",
    "    mydb.commit()\n",
    "    print(\"Record has been deleted successfully\")\n",
    "\n",
    "\n",
    "def main():\n",
    "    print('Welcome Admin')\n",
    "    print('Operation list [Accept, Search, Display, Update, Archive, logout]')\n",
    "    operation = True\n",
    "    while operation:\n",
    "        option = input('Select Operation:')\n",
    "        if option == 'Accept'.lower():\n",
    "            Accept_Record()\n",
    "        elif option == 'Search'.lower():\n",
    "            Search_Record()\n",
    "        elif option == 'Display'.lower():\n",
    "            Display_Records()\n",
    "        elif option == 'Update'.lower():\n",
    "            Update_Record() \n",
    "        elif option == 'Archive'.lower():\n",
    "            Archive_Record()\n",
    "        elif option == 'Logout'.lower():\n",
    "            operation = False\n",
    "            print('OPERATION TETMINATED.....')\n",
    "            break\n",
    "            \n",
    "            \n"
   ]
  },
  {
   "cell_type": "code",
   "execution_count": 25,
   "id": "2eee622e",
   "metadata": {},
   "outputs": [
    {
     "name": "stdout",
     "output_type": "stream",
     "text": [
      "Welcome Admin\n",
      "Operation list [Accept, Search, Display, Update, Archive, logout]\n",
      "Select Operation:accept\n",
      "Enter Student ID: 802\n",
      "Enter Student Name: Jerry John\n",
      "Enter age of student: 22\n",
      "Enter student gender (Male/Female/Other): Male\n",
      "Enter student date of birth (YYYY-MM-DD): 2002-05-04\n",
      "Enter student address: No 55, Keana close, Kubwa Abuja\n",
      "Enter student guardian: Oluwatoyosi\n",
      "Enter student guardian contact: 08022889045\n",
      "Record inserted successfully...\n",
      "Select Operation:logout\n",
      "OPERATION TETMINATED.....\n"
     ]
    }
   ],
   "source": [
    "main()"
   ]
  },
  {
   "cell_type": "code",
   "execution_count": null,
   "id": "8979ba33",
   "metadata": {},
   "outputs": [],
   "source": []
  }
 ],
 "metadata": {
  "kernelspec": {
   "display_name": "Python 3 (ipykernel)",
   "language": "python",
   "name": "python3"
  },
  "language_info": {
   "codemirror_mode": {
    "name": "ipython",
    "version": 3
   },
   "file_extension": ".py",
   "mimetype": "text/x-python",
   "name": "python",
   "nbconvert_exporter": "python",
   "pygments_lexer": "ipython3",
   "version": "3.11.5"
  }
 },
 "nbformat": 4,
 "nbformat_minor": 5
}
