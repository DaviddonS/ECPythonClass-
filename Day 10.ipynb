{
 "cells": [
  {
   "cell_type": "code",
   "execution_count": 1,
   "id": "0e3ecf2d",
   "metadata": {},
   "outputs": [
    {
     "name": "stdout",
     "output_type": "stream",
     "text": [
      "['MAXYEAR', 'MINYEAR', 'UTC', '__all__', '__builtins__', '__cached__', '__doc__', '__file__', '__loader__', '__name__', '__package__', '__spec__', 'date', 'datetime', 'datetime_CAPI', 'sys', 'time', 'timedelta', 'timezone', 'tzinfo']\n"
     ]
    }
   ],
   "source": [
    "#date time module\n",
    "import datetime\n",
    "print(dir(datetime))"
   ]
  },
  {
   "cell_type": "code",
   "execution_count": 4,
   "id": "cbc2b525",
   "metadata": {},
   "outputs": [
    {
     "data": {
      "text/plain": [
       "datetime.date(2024, 1, 30)"
      ]
     },
     "execution_count": 4,
     "metadata": {},
     "output_type": "execute_result"
    }
   ],
   "source": [
    "date1 = datetime.date(2024, 1, 30)\n",
    "date1"
   ]
  },
  {
   "cell_type": "code",
   "execution_count": 7,
   "id": "e4a1b420",
   "metadata": {},
   "outputs": [
    {
     "name": "stdout",
     "output_type": "stream",
     "text": [
      "2024\n",
      "1\n",
      "30\n",
      "1\n",
      "2\n"
     ]
    }
   ],
   "source": [
    "#weekday starts counting from index 0 on the days of the week\n",
    "#isoweekday starts counting from 1\n",
    "\n",
    "print(date1.year)\n",
    "print(date1.month)\n",
    "print(date1.day)\n",
    "print(date1.weekday())\n",
    "print(date1.isoweekday())\n"
   ]
  },
  {
   "cell_type": "code",
   "execution_count": 9,
   "id": "eee5d15a",
   "metadata": {},
   "outputs": [
    {
     "data": {
      "text/plain": [
       "datetime.date(2024, 1, 30)"
      ]
     },
     "execution_count": 9,
     "metadata": {},
     "output_type": "execute_result"
    }
   ],
   "source": [
    "#strftime is string format time to display the weekday as a string\n",
    "currentdate = datetime.date.today()\n",
    "currentdate"
   ]
  },
  {
   "cell_type": "code",
   "execution_count": 70,
   "id": "69e4c128",
   "metadata": {},
   "outputs": [
    {
     "name": "stdout",
     "output_type": "stream",
     "text": [
      "Tuesday\n",
      "Tue\n",
      "January\n",
      "Jan\n",
      "2024\n",
      "24\n",
      "01\n",
      "30\n",
      "01/30/24\n"
     ]
    }
   ],
   "source": [
    "print(currentdate.strftime('%A')) #returns the day of the week in full\n",
    "print(currentdate.strftime('%a')) #returns the day of the week in abbreviation\n",
    "print(currentdate.strftime('%B')) #returns the month of the year in full\n",
    "print(currentdate.strftime('%b')) #returns the month of the year in abbreviation \n",
    "print(currentdate.strftime('%Y')) #returns the year in full\n",
    "print(currentdate.strftime('%y')) #returns the year in number\n",
    "print(currentdate.strftime('%m')) #returns the month\n",
    "print(currentdate.strftime('%d')) #returns the day number\n",
    "print(currentdate.strftime('%D')) #returns the date in full"
   ]
  },
  {
   "cell_type": "code",
   "execution_count": 23,
   "id": "15629fbc",
   "metadata": {},
   "outputs": [
    {
     "name": "stdout",
     "output_type": "stream",
     "text": [
      "Today's date is 30 th of January , 2024\n",
      "30th of January, 2024\n"
     ]
    }
   ],
   "source": [
    "#format the current date in this format 30th of January, 2024\n",
    "print(\"Today's date is\", currentdate.strftime('%d'), \"th of\", currentdate.strftime('%B'), \",\", currentdate.strftime('%Y'))\n",
    "print(currentdate.strftime('%dth of %B, %Y'))"
   ]
  },
  {
   "cell_type": "code",
   "execution_count": 24,
   "id": "389fc029",
   "metadata": {},
   "outputs": [
    {
     "data": {
      "text/plain": [
       "datetime.time(16, 40, 45, 123458)"
      ]
     },
     "execution_count": 24,
     "metadata": {},
     "output_type": "execute_result"
    }
   ],
   "source": [
    "time1 = datetime.time(16, 40, 45, 123458)\n",
    "time1"
   ]
  },
  {
   "cell_type": "code",
   "execution_count": 25,
   "id": "90496328",
   "metadata": {},
   "outputs": [
    {
     "name": "stdout",
     "output_type": "stream",
     "text": [
      "16\n",
      "40\n",
      "45\n",
      "123458\n"
     ]
    }
   ],
   "source": [
    "print(time1.hour)\n",
    "print(time1.minute)\n",
    "print(time1.second)\n",
    "print(time1.microsecond)"
   ]
  },
  {
   "cell_type": "code",
   "execution_count": 33,
   "id": "58e76922",
   "metadata": {},
   "outputs": [
    {
     "data": {
      "text/plain": [
       "datetime.time(17, 5, 42, 122986)"
      ]
     },
     "execution_count": 33,
     "metadata": {},
     "output_type": "execute_result"
    }
   ],
   "source": [
    "currenttime = datetime.datetime.now().time()\n",
    "currenttime"
   ]
  },
  {
   "cell_type": "code",
   "execution_count": 30,
   "id": "1ae9aaff",
   "metadata": {},
   "outputs": [
    {
     "name": "stdout",
     "output_type": "stream",
     "text": [
      "16\n",
      "04\n",
      "47\n",
      "59\n",
      "668149\n",
      "PM\n"
     ]
    }
   ],
   "source": [
    "print(currenttime.strftime('%H')) #hour in 24 hour format\n",
    "print(currenttime.strftime('%I')) #hour in 12 hour format\n",
    "print(currenttime.strftime('%M')) #minute\n",
    "print(currenttime.strftime('%S')) #second\n",
    "print(currenttime.strftime('%f')) #micro second\n",
    "print(currenttime.strftime('%p')) #anti meridian or post meridian\n"
   ]
  },
  {
   "cell_type": "code",
   "execution_count": 31,
   "id": "709a426a",
   "metadata": {},
   "outputs": [
    {
     "data": {
      "text/plain": [
       "datetime.datetime(2024, 1, 30, 16, 57, 25, 554984)"
      ]
     },
     "execution_count": 31,
     "metadata": {},
     "output_type": "execute_result"
    }
   ],
   "source": [
    "currentdateandtime = datetime.datetime.now()\n",
    "currentdateandtime"
   ]
  },
  {
   "cell_type": "code",
   "execution_count": 39,
   "id": "d205c8a5",
   "metadata": {},
   "outputs": [
    {
     "name": "stdout",
     "output_type": "stream",
     "text": [
      "Please enter your date [mm/dd/yy]:03/05/2024\n",
      "2024-03-05\n"
     ]
    }
   ],
   "source": [
    "#strptime is used to convert a date in string format to datetime format\n",
    "date2 = input('Please enter your date [mm/dd/yy]:')\n",
    "cdate = datetime.datetime.strptime(date2, '%m/%d/%Y').date()\n",
    "print(cdate)"
   ]
  },
  {
   "cell_type": "code",
   "execution_count": 40,
   "id": "187faea7",
   "metadata": {},
   "outputs": [
    {
     "data": {
      "text/plain": [
       "datetime.timedelta(0)"
      ]
     },
     "execution_count": 40,
     "metadata": {},
     "output_type": "execute_result"
    }
   ],
   "source": [
    "#timedelta is the difference between two date and time\n",
    "currentdate - date1"
   ]
  },
  {
   "cell_type": "code",
   "execution_count": 43,
   "id": "3a5b0005",
   "metadata": {},
   "outputs": [
    {
     "data": {
      "text/plain": [
       "datetime.date(2024, 4, 2)"
      ]
     },
     "execution_count": 43,
     "metadata": {},
     "output_type": "execute_result"
    }
   ],
   "source": [
    "currentdate + datetime.timedelta(weeks = 9)"
   ]
  },
  {
   "cell_type": "code",
   "execution_count": 53,
   "id": "da45f6de",
   "metadata": {},
   "outputs": [
    {
     "name": "stdout",
     "output_type": "stream",
     "text": [
      "What is the date of your exam [mm/dd/yy]:03/24/2024\n",
      "You have 7 weeks and 5 days to your exams\n",
      "2024-03-24\n",
      "54 days, 0:00:00\n",
      "2024-01-30\n"
     ]
    }
   ],
   "source": [
    "#a code to display a system that allows students to check their exam date in weeks and days from the current date\n",
    "Examdate = input(\"What is the date of your exam [mm/dd/yy]:\")\n",
    "Edate = datetime.datetime.strptime(Examdate, '%m/%d/%Y').date()\n",
    "MyCurrentDate = datetime.date.today()\n",
    "Difference = Edate - MyCurrentDate\n",
    "weeks = Difference.days //7\n",
    "days = Difference.days % 7\n",
    "\n",
    "print(\"You have\", weeks, \"weeks\", \"and\", days, \"days to your exams\")\n",
    "print(Edate)\n",
    "print(Difference)\n",
    "print(MyCurrentDate)"
   ]
  },
  {
   "cell_type": "code",
   "execution_count": 56,
   "id": "4521ba1d",
   "metadata": {},
   "outputs": [
    {
     "data": {
      "text/plain": [
       "datetime.date(2024, 1, 31)"
      ]
     },
     "execution_count": 56,
     "metadata": {},
     "output_type": "execute_result"
    }
   ],
   "source": [
    "Wedday= datetime.date.today()\n",
    "Wedday"
   ]
  },
  {
   "cell_type": "code",
   "execution_count": 57,
   "id": "ef8d3cf9",
   "metadata": {},
   "outputs": [
    {
     "name": "stdout",
     "output_type": "stream",
     "text": [
      "2024\n"
     ]
    }
   ],
   "source": [
    "print(Wedday.year)"
   ]
  },
  {
   "cell_type": "code",
   "execution_count": 58,
   "id": "39e50390",
   "metadata": {},
   "outputs": [
    {
     "name": "stdout",
     "output_type": "stream",
     "text": [
      "1\n",
      "31\n",
      "2\n",
      "3\n"
     ]
    }
   ],
   "source": [
    "print(Wedday.month)\n",
    "print(Wedday.day)\n",
    "print(Wedday.weekday())\n",
    "print(Wedday.isoweekday())"
   ]
  },
  {
   "cell_type": "code",
   "execution_count": 60,
   "id": "76adf9c8",
   "metadata": {},
   "outputs": [
    {
     "name": "stdout",
     "output_type": "stream",
     "text": [
      "Wednesday\n"
     ]
    }
   ],
   "source": [
    "print(Wedday.strftime('%A'))"
   ]
  },
  {
   "cell_type": "code",
   "execution_count": 61,
   "id": "755c7e60",
   "metadata": {},
   "outputs": [
    {
     "name": "stdout",
     "output_type": "stream",
     "text": [
      "Wed\n"
     ]
    }
   ],
   "source": [
    "print(Wedday.strftime('%a'))"
   ]
  },
  {
   "cell_type": "code",
   "execution_count": 62,
   "id": "c0d1d530",
   "metadata": {},
   "outputs": [
    {
     "name": "stdout",
     "output_type": "stream",
     "text": [
      "January\n"
     ]
    }
   ],
   "source": [
    "print(Wedday.strftime('%B'))"
   ]
  },
  {
   "cell_type": "code",
   "execution_count": 63,
   "id": "eb929e0b",
   "metadata": {},
   "outputs": [
    {
     "name": "stdout",
     "output_type": "stream",
     "text": [
      "Jan\n"
     ]
    }
   ],
   "source": [
    "print(Wedday.strftime('%b'))"
   ]
  },
  {
   "cell_type": "code",
   "execution_count": 64,
   "id": "35134055",
   "metadata": {},
   "outputs": [
    {
     "name": "stdout",
     "output_type": "stream",
     "text": [
      "2024\n"
     ]
    }
   ],
   "source": [
    "print(Wedday.strftime('%Y'))"
   ]
  },
  {
   "cell_type": "code",
   "execution_count": 65,
   "id": "23e821e5",
   "metadata": {},
   "outputs": [
    {
     "name": "stdout",
     "output_type": "stream",
     "text": [
      "24\n"
     ]
    }
   ],
   "source": [
    "print(Wedday.strftime('%y'))"
   ]
  },
  {
   "cell_type": "code",
   "execution_count": 67,
   "id": "7becf77f",
   "metadata": {},
   "outputs": [
    {
     "name": "stdout",
     "output_type": "stream",
     "text": [
      "01\n"
     ]
    }
   ],
   "source": [
    "print(Wedday.strftime('%m'))"
   ]
  },
  {
   "cell_type": "code",
   "execution_count": 68,
   "id": "8d9023c9",
   "metadata": {},
   "outputs": [
    {
     "name": "stdout",
     "output_type": "stream",
     "text": [
      "01/31/24\n"
     ]
    }
   ],
   "source": [
    "print(Wedday.strftime('%D'))"
   ]
  },
  {
   "cell_type": "code",
   "execution_count": 69,
   "id": "53fee6b1",
   "metadata": {},
   "outputs": [
    {
     "name": "stdout",
     "output_type": "stream",
     "text": [
      "31\n"
     ]
    }
   ],
   "source": [
    "print(Wedday.strftime('%d'))"
   ]
  },
  {
   "cell_type": "code",
   "execution_count": 72,
   "id": "d9c3a662",
   "metadata": {},
   "outputs": [
    {
     "name": "stdout",
     "output_type": "stream",
     "text": [
      "Today's date is 31th of January 2024\n"
     ]
    }
   ],
   "source": [
    "print(\"Today's date is\", Wedday.strftime('%dth of %B %Y'))"
   ]
  },
  {
   "cell_type": "code",
   "execution_count": 74,
   "id": "81bc23dc",
   "metadata": {},
   "outputs": [
    {
     "data": {
      "text/plain": [
       "datetime.time(12, 2, 30, 4655)"
      ]
     },
     "execution_count": 74,
     "metadata": {},
     "output_type": "execute_result"
    }
   ],
   "source": [
    "Wedtime = datetime.datetime.now().time()\n",
    "Wedtime"
   ]
  },
  {
   "cell_type": "code",
   "execution_count": 82,
   "id": "05c2226d",
   "metadata": {},
   "outputs": [
    {
     "name": "stdout",
     "output_type": "stream",
     "text": [
      "12\n",
      "12\n",
      "02\n",
      "30\n",
      "004655\n",
      "PM\n"
     ]
    }
   ],
   "source": [
    "print(Wedtime.strftime('%H'))\n",
    "print(Wedtime.strftime('%I'))\n",
    "print(Wedtime.strftime('%M'))\n",
    "print(Wedtime.strftime('%S'))\n",
    "print(Wedtime.strftime('%f'))\n",
    "print(Wedtime.strftime('%p'))"
   ]
  },
  {
   "cell_type": "code",
   "execution_count": 91,
   "id": "20d4f2da",
   "metadata": {},
   "outputs": [
    {
     "name": "stdout",
     "output_type": "stream",
     "text": [
      "what is your date of birth in [dd/mm/yy]06/10/2002\n",
      "2002-10-06\n"
     ]
    }
   ],
   "source": [
    "Question = input('what is your date of birth in [dd/mm/yy]')\n",
    "MyBirth = datetime.datetime.strptime(Question, '%d/%m/%Y').date()\n",
    "print(MyBirth)"
   ]
  },
  {
   "cell_type": "code",
   "execution_count": 92,
   "id": "91ca6fca",
   "metadata": {},
   "outputs": [
    {
     "ename": "TypeError",
     "evalue": "unsupported operand type(s) for -: 'datetime.time' and 'datetime.date'",
     "output_type": "error",
     "traceback": [
      "\u001b[1;31m---------------------------------------------------------------------------\u001b[0m",
      "\u001b[1;31mTypeError\u001b[0m                                 Traceback (most recent call last)",
      "Cell \u001b[1;32mIn[92], line 1\u001b[0m\n\u001b[1;32m----> 1\u001b[0m Wedtime \u001b[38;5;241m-\u001b[39m MyBirth\n",
      "\u001b[1;31mTypeError\u001b[0m: unsupported operand type(s) for -: 'datetime.time' and 'datetime.date'"
     ]
    }
   ],
   "source": [
    "Wedtime - "
   ]
  },
  {
   "cell_type": "code",
   "execution_count": null,
   "id": "aa30b8a4",
   "metadata": {},
   "outputs": [],
   "source": []
  }
 ],
 "metadata": {
  "kernelspec": {
   "display_name": "Python 3 (ipykernel)",
   "language": "python",
   "name": "python3"
  },
  "language_info": {
   "codemirror_mode": {
    "name": "ipython",
    "version": 3
   },
   "file_extension": ".py",
   "mimetype": "text/x-python",
   "name": "python",
   "nbconvert_exporter": "python",
   "pygments_lexer": "ipython3",
   "version": "3.11.5"
  }
 },
 "nbformat": 4,
 "nbformat_minor": 5
}
