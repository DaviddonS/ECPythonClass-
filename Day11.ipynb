{
 "cells": [
  {
   "cell_type": "code",
   "execution_count": 40,
   "id": "a9353a21",
   "metadata": {},
   "outputs": [],
   "source": [
    "stock = {}\n",
    "\n",
    "def add_item(item_id, name, quantity):\n",
    "    if item_id not in stock:\n",
    "        stock[item_id] = {'name': name, 'quantity': quantity}\n",
    "        print(f\"Item {name} added to stock with ID {item_id}\")\n",
    "    else:\n",
    "        print(f\"Item with ID {item_id} already exists. Use update_item to modify.\")\n",
    "        \n",
    "def search_item(item_id):\n",
    "    if item_id in stock:\n",
    "        item = stock[item_id]\n",
    "        print(f\"Item ID: {item_id}, Name: {item['name']}, Quantity: {item['quantity']}\")\n",
    "    else:\n",
    "        print(f\"Item with ID {item_id} not found in stock.\") \n",
    "        \n",
    "def delete_item(item_id):\n",
    "    if item_id in stock:\n",
    "        del(stock[item_id])\n",
    "        print(f\"Item with ID {item_id} deleted from stock.\")\n",
    "    else:\n",
    "        print(f\"Item with ID {item_id} deleted from stock.\")\n",
    "\n",
    "def display_stock():\n",
    "    print(\"\\nCurrent Stock:\")\n",
    "    for item_id, item in stock.items():\n",
    "        print(f\"Item ID: {item_id}, Name: {item['name']}, Quantity: {item['quantity']}\")\n",
    "        \n",
    "def update_item(item_id, newValue):\n",
    "    for c in stock:\n",
    "    if item_id in stock:\n",
    "        item_\n"
   ]
  },
  {
   "cell_type": "code",
   "execution_count": 41,
   "id": "cc80cfb8",
   "metadata": {},
   "outputs": [
    {
     "name": "stdout",
     "output_type": "stream",
     "text": [
      "Item Good Mama 50KG Rice added to stock with ID 101\n",
      "Item Golden Penny Spaghetti added to stock with ID 102\n",
      "Item Dangote Salt added to stock with ID 103\n",
      "Item Good Mama 25KG Rice added to stock with ID 104\n",
      "Item Power Oil 1LT added to stock with ID 105\n"
     ]
    }
   ],
   "source": [
    "add_item(101, 'Good Mama 50KG Rice', 25)\n",
    "add_item(102, 'Golden Penny Spaghetti', 45)\n",
    "add_item(103, 'Dangote Salt', 75)\n",
    "add_item(104, 'Good Mama 25KG Rice', 90)\n",
    "add_item(105, 'Power Oil 1LT', 100)"
   ]
  },
  {
   "cell_type": "code",
   "execution_count": 43,
   "id": "43e177db",
   "metadata": {},
   "outputs": [
    {
     "data": {
      "text/plain": [
       "{101: {'name': 'Good Mama 50KG Rice', 'quantity': 25},\n",
       " 102: {'name': 'Golden Penny Spaghetti', 'quantity': 45},\n",
       " 103: {'name': 'Dangote Salt', 'quantity': 75},\n",
       " 104: {'name': 'Good Mama 25KG Rice', 'quantity': 90},\n",
       " 105: {'name': 'Power Oil 1LT', 'quantity': 100}}"
      ]
     },
     "execution_count": 43,
     "metadata": {},
     "output_type": "execute_result"
    }
   ],
   "source": [
    "stock"
   ]
  },
  {
   "cell_type": "code",
   "execution_count": 44,
   "id": "601f6bf9",
   "metadata": {},
   "outputs": [
    {
     "name": "stdout",
     "output_type": "stream",
     "text": [
      "Item with ID 106 not found in stock.\n"
     ]
    }
   ],
   "source": [
    "search_item(106)"
   ]
  },
  {
   "cell_type": "code",
   "execution_count": 45,
   "id": "a343da71",
   "metadata": {},
   "outputs": [
    {
     "name": "stdout",
     "output_type": "stream",
     "text": [
      "Item ID: 104, Name: Good Mama 25KG Rice, Quantity: 90\n"
     ]
    }
   ],
   "source": [
    "search_item(104)"
   ]
  },
  {
   "cell_type": "code",
   "execution_count": 46,
   "id": "73404c30",
   "metadata": {},
   "outputs": [
    {
     "data": {
      "text/plain": [
       "<function __main__.display_stock()>"
      ]
     },
     "execution_count": 46,
     "metadata": {},
     "output_type": "execute_result"
    }
   ],
   "source": [
    "display_stock"
   ]
  },
  {
   "cell_type": "code",
   "execution_count": 47,
   "id": "0dded7e6",
   "metadata": {},
   "outputs": [
    {
     "name": "stdout",
     "output_type": "stream",
     "text": [
      "\n",
      "Current Stock:\n",
      "Item ID: 101, Name: Good Mama 50KG Rice, Quantity: 25\n",
      "Item ID: 102, Name: Golden Penny Spaghetti, Quantity: 45\n",
      "Item ID: 103, Name: Dangote Salt, Quantity: 75\n",
      "Item ID: 104, Name: Good Mama 25KG Rice, Quantity: 90\n",
      "Item ID: 105, Name: Power Oil 1LT, Quantity: 100\n"
     ]
    }
   ],
   "source": [
    "display_stock()"
   ]
  },
  {
   "cell_type": "code",
   "execution_count": 48,
   "id": "d1e97b99",
   "metadata": {},
   "outputs": [
    {
     "name": "stdout",
     "output_type": "stream",
     "text": [
      "Item with ID 105 deleted from stock.\n"
     ]
    }
   ],
   "source": [
    "delete_item(105)"
   ]
  },
  {
   "cell_type": "code",
   "execution_count": 49,
   "id": "7209461b",
   "metadata": {},
   "outputs": [
    {
     "name": "stdout",
     "output_type": "stream",
     "text": [
      "\n",
      "Current Stock:\n",
      "Item ID: 101, Name: Good Mama 50KG Rice, Quantity: 25\n",
      "Item ID: 102, Name: Golden Penny Spaghetti, Quantity: 45\n",
      "Item ID: 103, Name: Dangote Salt, Quantity: 75\n",
      "Item ID: 104, Name: Good Mama 25KG Rice, Quantity: 90\n"
     ]
    }
   ],
   "source": [
    "display_stock()"
   ]
  },
  {
   "cell_type": "code",
   "execution_count": 50,
   "id": "c15cd064",
   "metadata": {},
   "outputs": [
    {
     "name": "stdout",
     "output_type": "stream",
     "text": [
      "Item with ID 104 already exists. Use update_item to modify.\n"
     ]
    }
   ],
   "source": [
    "add_item(104, 'Golden Penny Spaghetti', 50)"
   ]
  },
  {
   "cell_type": "code",
   "execution_count": 51,
   "id": "616711a9",
   "metadata": {},
   "outputs": [
    {
     "data": {
      "text/plain": [
       "20000"
      ]
     },
     "execution_count": 51,
     "metadata": {},
     "output_type": "execute_result"
    }
   ],
   "source": [
    "#lambda function is an anonymous function that means it has no name and cannot be reused therefore it is a one time function. It should be used for a micro or simple task\n",
    "(lambda x, y: x * y) (400, 50)"
   ]
  },
  {
   "cell_type": "code",
   "execution_count": 72,
   "id": "cce1782b",
   "metadata": {},
   "outputs": [
    {
     "name": "stdout",
     "output_type": "stream",
     "text": [
      "Enter your name:Awe\n"
     ]
    },
    {
     "data": {
      "text/plain": [
       "'Awe not in upper case'"
      ]
     },
     "execution_count": 72,
     "metadata": {},
     "output_type": "execute_result"
    }
   ],
   "source": [
    "#lambda function to check if a user name is in upper case\n",
    "#in lambda the expression comes first before the function, it only takes if and else\n",
    "(lambda name:f\"{name} is in uppercase\" if name == name.upper() else f\"{name} not in upper case\")(input('Enter your name:'))\n"
   ]
  },
  {
   "cell_type": "code",
   "execution_count": 54,
   "id": "a4c2bd9a",
   "metadata": {},
   "outputs": [
    {
     "name": "stdout",
     "output_type": "stream",
     "text": [
      "['PYTHON', 'C++', 'JAVA', 'PHP', 'GO', 'RUBY', 'PERL', 'RUST', 'JULIA', 'COBOL']\n"
     ]
    }
   ],
   "source": [
    "#map is used for modification of sequence like string, tuple and list where the lambda function carries the operation and the final outcome is returned as a list or tuple\n",
    "language_name = ['python', 'c++', 'java', 'php', 'go', 'ruby', 'perl', 'rust', 'julia', 'cobol']\n",
    "finaloutcome = list(map(lambda x: x.upper(), language_name))\n",
    "print(finaloutcome)"
   ]
  },
  {
   "cell_type": "code",
   "execution_count": 56,
   "id": "60232e23",
   "metadata": {},
   "outputs": [
    {
     "name": "stdout",
     "output_type": "stream",
     "text": [
      "['RUBY', 'RUST']\n"
     ]
    }
   ],
   "source": [
    "#filter is used for the selection in sequence like string, tuple and list where the lambda function carries the operation and the final outcome is returned as a list or tuple\n",
    "finaloutcome2 = list(filter(lambda x: x.startswith('R'), finaloutcome))\n",
    "print(finaloutcome2)"
   ]
  },
  {
   "cell_type": "code",
   "execution_count": 65,
   "id": "6a7f0816",
   "metadata": {},
   "outputs": [],
   "source": [
    "#from the sequence find the even and odd numbers seperated in different list\n",
    "numbers = []\n",
    "import random\n",
    "for i in range(1,51):\n",
    "    num = random.randint(14,89)\n",
    "    numbers.append(num)\n",
    "\n",
    "\n"
   ]
  },
  {
   "cell_type": "code",
   "execution_count": 66,
   "id": "99b9b763",
   "metadata": {},
   "outputs": [
    {
     "name": "stdout",
     "output_type": "stream",
     "text": [
      "[46, 87, 16, 47, 42, 32, 45, 76, 78, 32, 47, 49, 16, 74, 39, 44, 49, 24, 27, 16, 46, 89, 85, 40, 56, 75, 56, 59, 67, 57, 21, 50, 67, 38, 60, 86, 65, 70, 25, 43, 71, 47, 89, 85, 42, 71, 23, 82, 69, 29]\n"
     ]
    }
   ],
   "source": [
    "print(numbers)"
   ]
  },
  {
   "cell_type": "code",
   "execution_count": 84,
   "id": "b1d60724",
   "metadata": {},
   "outputs": [
    {
     "name": "stdout",
     "output_type": "stream",
     "text": [
      "[46, 16, 42, 32, 76, 78, 32, 16, 74, 44, 24, 16, 46, 40, 56, 56, 50, 38, 60, 86, 70, 42, 82]\n",
      "[6.782329983125268, 9.327379053088816, 4.0, 6.855654600401044, 6.48074069840786, 5.656854249492381, 6.708203932499369, 8.717797887081348, 8.831760866327848, 5.656854249492381, 6.855654600401044, 7.0, 4.0, 8.602325267042627, 6.244997998398398, 6.6332495807108, 7.0, 4.898979485566356, 5.196152422706632, 4.0, 6.782329983125268, 9.433981132056603, 9.219544457292887, 6.324555320336759, 7.483314773547883, 8.660254037844387, 7.483314773547883, 7.681145747868608, 8.18535277187245, 7.54983443527075, 4.58257569495584, 7.0710678118654755, 8.18535277187245, 6.164414002968976, 7.745966692414834, 9.273618495495704, 8.06225774829855, 8.366600265340756, 5.0, 6.557438524302, 8.426149773176359, 6.855654600401044, 9.433981132056603, 9.219544457292887, 6.48074069840786, 8.426149773176359, 4.795831523312719, 9.055385138137417, 8.306623862918075, 5.385164807134504]\n"
     ]
    }
   ],
   "source": [
    "Evenchecker = list(filter(lambda e: e % 2 == 0, numbers ))\n",
    "print(Evenchecker)\n",
    "#Using our generated numbers, map it bu finding the square root\n",
    "import math\n",
    "Square = list(map(lambda g: math.sqrt(g), numbers))\n",
    "print(Square)"
   ]
  },
  {
   "cell_type": "code",
   "execution_count": 60,
   "id": "e61f5b64",
   "metadata": {},
   "outputs": [],
   "source": [
    "Oddchecker = list(filter(lambda f: f % 2 == 1, numbers ))\n"
   ]
  },
  {
   "cell_type": "code",
   "execution_count": 68,
   "id": "fc61d503",
   "metadata": {},
   "outputs": [
    {
     "name": "stdout",
     "output_type": "stream",
     "text": [
      "[67, 47, 51, 55, 35, 79, 81, 33, 61, 43, 53, 35, 69, 63, 39, 77, 81, 33, 83, 17, 29, 69, 37, 33, 27, 71, 71, 27]\n"
     ]
    }
   ],
   "source": [
    "print(Oddchecker)"
   ]
  },
  {
   "cell_type": "code",
   "execution_count": 104,
   "id": "cdb89255",
   "metadata": {},
   "outputs": [
    {
     "name": "stdout",
     "output_type": "stream",
     "text": [
      "Enter your password:Akindele\n",
      "Password starts with capital letter and meets minimum length of 8 characters. Proceed to login\n"
     ]
    }
   ],
   "source": [
    "#lambda fucntion to check if password start with capital letter and has 8 characters\n",
    "\n",
    "check_capital_letter = lambda password: password[0].isupper()\n",
    "check_password_length = lambda password: len(password) >= 8\n",
    "\n",
    "Password = input(\"Enter your password:\")\n",
    "if check_capital_letter(Password) and check_password_length(Password):\n",
    "    print(\"Password starts with capital letter and meets minimum length of 8 characters. Proceed to login\")\n",
    "else:\n",
    "    print(\"Password does not start with capital letter or does not meet the minimum length of 8 characters\")"
   ]
  },
  {
   "cell_type": "code",
   "execution_count": null,
   "id": "7dc7d355",
   "metadata": {},
   "outputs": [],
   "source": []
  }
 ],
 "metadata": {
  "kernelspec": {
   "display_name": "Python 3 (ipykernel)",
   "language": "python",
   "name": "python3"
  },
  "language_info": {
   "codemirror_mode": {
    "name": "ipython",
    "version": 3
   },
   "file_extension": ".py",
   "mimetype": "text/x-python",
   "name": "python",
   "nbconvert_exporter": "python",
   "pygments_lexer": "ipython3",
   "version": "3.11.5"
  }
 },
 "nbformat": 4,
 "nbformat_minor": 5
}
