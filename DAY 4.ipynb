{
 "cells": [
  {
   "cell_type": "code",
   "execution_count": 1,
   "id": "5b985218",
   "metadata": {},
   "outputs": [],
   "source": [
    "#pyton modules"
   ]
  },
  {
   "cell_type": "code",
   "execution_count": 2,
   "id": "9e2f4318",
   "metadata": {},
   "outputs": [
    {
     "name": "stdout",
     "output_type": "stream",
     "text": [
      "['__doc__', '__loader__', '__name__', '__package__', '__spec__', 'acos', 'acosh', 'asin', 'asinh', 'atan', 'atan2', 'atanh', 'cbrt', 'ceil', 'comb', 'copysign', 'cos', 'cosh', 'degrees', 'dist', 'e', 'erf', 'erfc', 'exp', 'exp2', 'expm1', 'fabs', 'factorial', 'floor', 'fmod', 'frexp', 'fsum', 'gamma', 'gcd', 'hypot', 'inf', 'isclose', 'isfinite', 'isinf', 'isnan', 'isqrt', 'lcm', 'ldexp', 'lgamma', 'log', 'log10', 'log1p', 'log2', 'modf', 'nan', 'nextafter', 'perm', 'pi', 'pow', 'prod', 'radians', 'remainder', 'sin', 'sinh', 'sqrt', 'tan', 'tanh', 'tau', 'trunc', 'ulp']\n"
     ]
    }
   ],
   "source": [
    "import math\n",
    "print(dir(math))"
   ]
  },
  {
   "cell_type": "code",
   "execution_count": 3,
   "id": "13e4ca85",
   "metadata": {},
   "outputs": [
    {
     "data": {
      "text/plain": [
       "'This module provides access to the mathematical functions\\ndefined by the C standard.'"
      ]
     },
     "execution_count": 3,
     "metadata": {},
     "output_type": "execute_result"
    }
   ],
   "source": [
    "math.__doc__"
   ]
  },
  {
   "cell_type": "code",
   "execution_count": 4,
   "id": "73abfb5a",
   "metadata": {},
   "outputs": [
    {
     "name": "stdout",
     "output_type": "stream",
     "text": [
      "17\n",
      "18\n",
      "0.25827906902040754\n"
     ]
    }
   ],
   "source": [
    "number = 17.54\n",
    "print(math.floor(number))\n",
    "print(math.ceil(number))\n",
    "print(math.cos(number))\n",
    "#modules only works on one value and not multiple values"
   ]
  },
  {
   "cell_type": "code",
   "execution_count": 5,
   "id": "3cb4a29e",
   "metadata": {},
   "outputs": [
    {
     "name": "stdout",
     "output_type": "stream",
     "text": [
      "['Counter', 'Decimal', 'Fraction', 'LinearRegression', 'NormalDist', 'StatisticsError', '_SQRT2', '__all__', '__annotations__', '__builtins__', '__cached__', '__doc__', '__file__', '__loader__', '__name__', '__package__', '__spec__', '_coerce', '_convert', '_decimal_sqrt_of_frac', '_exact_ratio', '_fail_neg', '_float_sqrt_of_frac', '_integer_sqrt_of_frac_rto', '_isfinite', '_mean_stdev', '_normal_dist_inv_cdf', '_sqrt_bit_width', '_ss', '_sum', 'bisect_left', 'bisect_right', 'correlation', 'covariance', 'defaultdict', 'erf', 'exp', 'fabs', 'fmean', 'fsum', 'geometric_mean', 'groupby', 'harmonic_mean', 'hypot', 'linear_regression', 'log', 'math', 'mean', 'median', 'median_grouped', 'median_high', 'median_low', 'mode', 'mul', 'multimode', 'namedtuple', 'numbers', 'pstdev', 'pvariance', 'quantiles', 'random', 'reduce', 'repeat', 'sqrt', 'stdev', 'sys', 'tau', 'variance']\n"
     ]
    }
   ],
   "source": [
    "import statistics as Mystat\n",
    "#statistics works on grouped values and not single value\n",
    "print(dir(Mystat))"
   ]
  },
  {
   "cell_type": "code",
   "execution_count": 6,
   "id": "0a6bda36",
   "metadata": {},
   "outputs": [
    {
     "name": "stdout",
     "output_type": "stream",
     "text": [
      "54.5\n"
     ]
    }
   ],
   "source": [
    "score = [51,52,53,54,55,56,57,58]\n",
    "print(Mystat.mean(score))"
   ]
  },
  {
   "cell_type": "code",
   "execution_count": 7,
   "id": "a5b9a3a9",
   "metadata": {},
   "outputs": [
    {
     "name": "stdout",
     "output_type": "stream",
     "text": [
      "54.5\n"
     ]
    }
   ],
   "source": [
    "print(Mystat.median(score))"
   ]
  },
  {
   "cell_type": "code",
   "execution_count": 8,
   "id": "781583c1",
   "metadata": {},
   "outputs": [
    {
     "name": "stdout",
     "output_type": "stream",
     "text": [
      "51\n"
     ]
    }
   ],
   "source": [
    "print(Mystat.mode(score))"
   ]
  },
  {
   "cell_type": "code",
   "execution_count": 9,
   "id": "af237f69",
   "metadata": {},
   "outputs": [
    {
     "name": "stdout",
     "output_type": "stream",
     "text": [
      "['BPF', 'LOG4', 'NV_MAGICCONST', 'RECIP_BPF', 'Random', 'SG_MAGICCONST', 'SystemRandom', 'TWOPI', '_ONE', '_Sequence', '_Set', '__all__', '__builtins__', '__cached__', '__doc__', '__file__', '__loader__', '__name__', '__package__', '__spec__', '_accumulate', '_acos', '_bisect', '_ceil', '_cos', '_e', '_exp', '_floor', '_index', '_inst', '_isfinite', '_log', '_os', '_pi', '_random', '_repeat', '_sha512', '_sin', '_sqrt', '_test', '_test_generator', '_urandom', '_warn', 'betavariate', 'choice', 'choices', 'expovariate', 'gammavariate', 'gauss', 'getrandbits', 'getstate', 'lognormvariate', 'normalvariate', 'paretovariate', 'randbytes', 'randint', 'random', 'randrange', 'sample', 'seed', 'setstate', 'shuffle', 'triangular', 'uniform', 'vonmisesvariate', 'weibullvariate']\n"
     ]
    }
   ],
   "source": [
    "import random as Rand\n",
    "print(dir(Rand))"
   ]
  },
  {
   "cell_type": "code",
   "execution_count": 10,
   "id": "c56ed7e2",
   "metadata": {},
   "outputs": [],
   "source": [
    "#string, re, datetime"
   ]
  },
  {
   "cell_type": "code",
   "execution_count": 4,
   "id": "b5c4b902",
   "metadata": {},
   "outputs": [
    {
     "name": "stdout",
     "output_type": "stream",
     "text": [
      "Please enter chicken weight in KG:0\n",
      "You do not have any chicken\n"
     ]
    }
   ],
   "source": [
    "chickenKG= float(input('Please enter chicken weight in KG:'))\n",
    "perkgprice = 2000\n",
    "if chickenKG >= 1:\n",
    "    print(f'Your total price is {chickenKG * perkgprice}')\n",
    "if chickenKG < 1:\n",
    "    print('You do not have any chicken')\n",
    "    #for the if only condition the expression is returned only if the preset condition is true and no outcome if the preset condition is false"
   ]
  },
  {
   "cell_type": "code",
   "execution_count": 19,
   "id": "c977e2f6",
   "metadata": {},
   "outputs": [
    {
     "name": "stdout",
     "output_type": "stream",
     "text": [
      "Please enter the number of courses you want to register:1\n",
      "You have registered for a small number of course\n"
     ]
    }
   ],
   "source": [
    "Courses = int(input('Please enter the number of courses you want to register:'))\n",
    "priceCourse= 90000\n",
    "if Courses >=2:\n",
    "    print(f'The total amount of your courses is {Courses * priceCourse}')\n",
    "else:\n",
    "    print('You have registered for a small number of course')\n",
    "#else if condition, the expression is returned if the if preset condition is true and the expression under the else is returned if the condition is false"
   ]
  },
  {
   "cell_type": "code",
   "execution_count": 6,
   "id": "98b27e36",
   "metadata": {},
   "outputs": [
    {
     "name": "stdout",
     "output_type": "stream",
     "text": [
      "Shipment region:South-South\n",
      "Item weight in KG:30\n",
      "item Condition:Empty\n",
      "item quantity:4\n",
      "Enter item cost:2\n",
      "Invalid selection of region, Check back another time\n"
     ]
    }
   ],
   "source": [
    "region = input(\"Shipment region:\")\n",
    "weight = float(input('Item weight in KG:'))\n",
    "condition = input('item Condition:')\n",
    "quantity = float(input('item quantity:'))\n",
    "costperitem = float(input('Enter item cost:'))\n",
    "\n",
    "if region == 'South-South' and condition == 'Fragile':\n",
    "    print(f'''Item quantity: {quantity}\n",
    "Item cost: {quantity*costperitem}\n",
    "Shipping Fee: {weight* 10* quantity}\n",
    "Total cost plus shipment is {(weight * 10 * quantity) + (quantity * costperitem)}''')\n",
    "    \n",
    "elif region == 'South-South' and condition == 'Non-Fragile':\n",
    "    print(f'''Item quantity: {quantity}\n",
    "Item cost: {quantity*costperitem}\n",
    "Shipping Fee: {weight* 8* quantity}\n",
    "Total cost plus shipment is {(weight * 8 * quantity) + (quantity * costperitem)}''')\n",
    "    \n",
    "elif region == 'South-East' and condition == 'Fragile':\n",
    "     print(f'''Item quantity: {quantity}\n",
    "Item cost: {quantity*costperitem}\n",
    "Shipping Fee: {weight* 12 * quantity}\n",
    "Total cost plus shipment is {(weight * 12 * quantity) + (quantity * costperitem)}''')\n",
    "        \n",
    "elif region == 'South-East' and condition == 'Non-Fragile':\n",
    "     print(f'''Item quantity: {quantity}\n",
    "Item cost: {quantity*costperitem}\n",
    "Shipping Fee: {weight* 9 * quantity}\n",
    "Total cost plus shipment is {(weight * 9 * quantity) + (quantity * costperitem)}''')\n",
    "    \n",
    "elif region == 'South-West' and condition == 'Fragile':\n",
    "     print(f'''Item quantity: {quantity}\n",
    "Item cost: {quantity*costperitem}\n",
    "Shipping Fee: {weight* 11 * quantity}\n",
    "Total cost plus shipment is {(weight * 11 * quantity) + (quantity * costperitem)}''')\n",
    "        \n",
    "elif region == 'South-West' and condition == 'Non-Fragile':\n",
    "     print(f'''Item quantity: {quantity}\n",
    "Item cost: {quantity*costperitem}\n",
    "Shipping Fee: {weight* 7 * quantity}\n",
    "Total cost plus shipment is {(weight * 7 * quantity) + (quantity * costperitem)}''')\n",
    "        \n",
    "elif region == 'North-Central' and condition == 'Fragile':\n",
    "     print(f'''Item quantity: {quantity}\n",
    "Item cost: {quantity*costperitem}\n",
    "Shipping Fee: {weight* 9 * quantity}\n",
    "Total cost plus shipment is {(weight * 9 * quantity) + (quantity * costperitem)}''')\n",
    "        \n",
    "elif region == 'North-Central' and condition == 'Non-Fragile':\n",
    "     print(f'''Item quantity: {quantity}\n",
    "Item cost: {quantity*costperitem}\n",
    "Shipping Fee: {weight* 7 * quantity}\n",
    "Total cost plus shipment is {(weight * 7 * quantity) + (quantity * costperitem)}''')\n",
    "        \n",
    "elif region == 'North-West' and condition == 'Fragile':\n",
    "     print(f'''Item quantity: {quantity}\n",
    "Item cost: {quantity*costperitem}\n",
    "Shipping Fee: {weight* 13 * quantity}\n",
    "Total cost plus shipment is {(weight * 13 * quantity) + (quantity * costperitem)}''')\n",
    "        \n",
    "elif region == 'North-West' and condition == 'Non-Fragile':\n",
    "     print(f'''Item quantity: {quantity}\n",
    "Item cost: {quantity*costperitem}\n",
    "Shipping Fee: {weight* 8.5 * quantity}\n",
    "Total cost plus shipment is {(weight * 8.5 * quantity) + (quantity * costperitem)}''')\n",
    "        \n",
    "elif region == 'North-East' and condition == 'Fragile':\n",
    "     print(f'''Item quantity: {quantity}\n",
    "Item cost: {quantity*costperitem}\n",
    "Shipping Fee: {weight* 14 * quantity}\n",
    "Total cost plus shipment is {(weight * 14 * quantity) + (quantity * costperitem)}''')\n",
    "        \n",
    "elif region == 'North-East' and condition == 'Non-Fragile':\n",
    "     print(f'''Item quantity: {quantity}\n",
    "Item cost: {quantity*costperitem}\n",
    "Shipping Fee: {weight* 7.5 * quantity}\n",
    "Total cost plus shipment is {(weight * 7.5 * quantity) + (quantity * costperitem)}''')\n",
    "        \n",
    "else:\n",
    "    print(\"Invalid selection of region, Check back another time\")\n",
    "        "
   ]
  },
  {
   "cell_type": "code",
   "execution_count": null,
   "id": "8d56a09a",
   "metadata": {},
   "outputs": [],
   "source": []
  }
 ],
 "metadata": {
  "kernelspec": {
   "display_name": "Python 3 (ipykernel)",
   "language": "python",
   "name": "python3"
  },
  "language_info": {
   "codemirror_mode": {
    "name": "ipython",
    "version": 3
   },
   "file_extension": ".py",
   "mimetype": "text/x-python",
   "name": "python",
   "nbconvert_exporter": "python",
   "pygments_lexer": "ipython3",
   "version": "3.11.5"
  }
 },
 "nbformat": 4,
 "nbformat_minor": 5
}
