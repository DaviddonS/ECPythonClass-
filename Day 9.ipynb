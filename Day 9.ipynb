{
 "cells": [
  {
   "cell_type": "code",
   "execution_count": 6,
   "id": "24d2a766",
   "metadata": {},
   "outputs": [
    {
     "name": "stdout",
     "output_type": "stream",
     "text": [
      "____LAND ESTIMATION CALCULATOR____\n",
      "1. Input Cost of the Land\n",
      "2. Input Material Costs\n",
      "3. Input Labour Costs\n",
      "4. Check Total Expenses\n",
      "5. Cancel\n",
      "    \n"
     ]
    },
    {
     "ename": "KeyboardInterrupt",
     "evalue": "Interrupted by user",
     "output_type": "error",
     "traceback": [
      "\u001b[1;31m---------------------------------------------------------------------------\u001b[0m",
      "\u001b[1;31mKeyboardInterrupt\u001b[0m                         Traceback (most recent call last)",
      "Cell \u001b[1;32mIn[6], line 43\u001b[0m\n\u001b[0;32m     34\u001b[0m \u001b[38;5;28;01mwhile\u001b[39;00m operation:\n\u001b[0;32m     35\u001b[0m     \u001b[38;5;28mprint\u001b[39m(\u001b[38;5;124m'''\u001b[39m\u001b[38;5;124m____LAND ESTIMATION CALCULATOR____\u001b[39m\n\u001b[0;32m     36\u001b[0m \u001b[38;5;124m1. Input Cost of the Land\u001b[39m\n\u001b[0;32m     37\u001b[0m \u001b[38;5;124m2. Input Material Costs\u001b[39m\n\u001b[1;32m   (...)\u001b[0m\n\u001b[0;32m     40\u001b[0m \u001b[38;5;124m5. Cancel\u001b[39m\n\u001b[0;32m     41\u001b[0m \u001b[38;5;124m    \u001b[39m\u001b[38;5;124m'''\u001b[39m)\n\u001b[1;32m---> 43\u001b[0m     option \u001b[38;5;241m=\u001b[39m \u001b[38;5;28minput\u001b[39m(\u001b[38;5;124m\"\u001b[39m\u001b[38;5;124mWhat do you want to select:\u001b[39m\u001b[38;5;124m\"\u001b[39m)\n\u001b[0;32m     44\u001b[0m     \u001b[38;5;28;01mif\u001b[39;00m option \u001b[38;5;241m==\u001b[39m \u001b[38;5;241m1\u001b[39m:\n\u001b[0;32m     45\u001b[0m         Calc\u001b[38;5;241m.\u001b[39mLandCost()\n",
      "File \u001b[1;32m~\\Anaconda3\\Earlycode\\Lib\\site-packages\\ipykernel\\kernelbase.py:1202\u001b[0m, in \u001b[0;36mKernel.raw_input\u001b[1;34m(self, prompt)\u001b[0m\n\u001b[0;32m   1200\u001b[0m     msg \u001b[38;5;241m=\u001b[39m \u001b[38;5;124m\"\u001b[39m\u001b[38;5;124mraw_input was called, but this frontend does not support input requests.\u001b[39m\u001b[38;5;124m\"\u001b[39m\n\u001b[0;32m   1201\u001b[0m     \u001b[38;5;28;01mraise\u001b[39;00m StdinNotImplementedError(msg)\n\u001b[1;32m-> 1202\u001b[0m \u001b[38;5;28;01mreturn\u001b[39;00m \u001b[38;5;28mself\u001b[39m\u001b[38;5;241m.\u001b[39m_input_request(\n\u001b[0;32m   1203\u001b[0m     \u001b[38;5;28mstr\u001b[39m(prompt),\n\u001b[0;32m   1204\u001b[0m     \u001b[38;5;28mself\u001b[39m\u001b[38;5;241m.\u001b[39m_parent_ident[\u001b[38;5;124m\"\u001b[39m\u001b[38;5;124mshell\u001b[39m\u001b[38;5;124m\"\u001b[39m],\n\u001b[0;32m   1205\u001b[0m     \u001b[38;5;28mself\u001b[39m\u001b[38;5;241m.\u001b[39mget_parent(\u001b[38;5;124m\"\u001b[39m\u001b[38;5;124mshell\u001b[39m\u001b[38;5;124m\"\u001b[39m),\n\u001b[0;32m   1206\u001b[0m     password\u001b[38;5;241m=\u001b[39m\u001b[38;5;28;01mFalse\u001b[39;00m,\n\u001b[0;32m   1207\u001b[0m )\n",
      "File \u001b[1;32m~\\Anaconda3\\Earlycode\\Lib\\site-packages\\ipykernel\\kernelbase.py:1245\u001b[0m, in \u001b[0;36mKernel._input_request\u001b[1;34m(self, prompt, ident, parent, password)\u001b[0m\n\u001b[0;32m   1242\u001b[0m \u001b[38;5;28;01mexcept\u001b[39;00m \u001b[38;5;167;01mKeyboardInterrupt\u001b[39;00m:\n\u001b[0;32m   1243\u001b[0m     \u001b[38;5;66;03m# re-raise KeyboardInterrupt, to truncate traceback\u001b[39;00m\n\u001b[0;32m   1244\u001b[0m     msg \u001b[38;5;241m=\u001b[39m \u001b[38;5;124m\"\u001b[39m\u001b[38;5;124mInterrupted by user\u001b[39m\u001b[38;5;124m\"\u001b[39m\n\u001b[1;32m-> 1245\u001b[0m     \u001b[38;5;28;01mraise\u001b[39;00m \u001b[38;5;167;01mKeyboardInterrupt\u001b[39;00m(msg) \u001b[38;5;28;01mfrom\u001b[39;00m \u001b[38;5;28;01mNone\u001b[39;00m\n\u001b[0;32m   1246\u001b[0m \u001b[38;5;28;01mexcept\u001b[39;00m \u001b[38;5;167;01mException\u001b[39;00m:\n\u001b[0;32m   1247\u001b[0m     \u001b[38;5;28mself\u001b[39m\u001b[38;5;241m.\u001b[39mlog\u001b[38;5;241m.\u001b[39mwarning(\u001b[38;5;124m\"\u001b[39m\u001b[38;5;124mInvalid Message:\u001b[39m\u001b[38;5;124m\"\u001b[39m, exc_info\u001b[38;5;241m=\u001b[39m\u001b[38;5;28;01mTrue\u001b[39;00m)\n",
      "\u001b[1;31mKeyboardInterrupt\u001b[0m: Interrupted by user"
     ]
    }
   ],
   "source": [
    "class LandEstimator:\n",
    "    def __init__(land):\n",
    "        land.cost = 0\n",
    "        \n",
    "    def LandCost(land):\n",
    "        amount = int(input(\"What is the cost of the land: \"))\n",
    "        if amount > 0:\n",
    "            print(\"Land cost has been stored successfully\")\n",
    "            land.cost += amount\n",
    "        else:\n",
    "            print(\"No value inputted\")\n",
    "    \n",
    "    def MaterialCost(land):\n",
    "        amount = int(input(\"What are the material costs: \"))\n",
    "        if amount > 0:\n",
    "            print(\"Material costs has been stored successfully\")\n",
    "            land.cost += amount\n",
    "        else:\n",
    "            print(\"No value inputted\")\n",
    "            \n",
    "    def LaborCost(land):\n",
    "        amount = int(input(\"What are the costs of labour\"))\n",
    "        if amount > 0:\n",
    "            print(\"Labour costs has been stored successfully\")\n",
    "            land.cost += amount\n",
    "        else:\n",
    "            print(\"No value inputted\")\n",
    "            \n",
    "    def CheckCost(land):\n",
    "        print(f\"The total estimation for this building is {land.cost} \")\n",
    "        \n",
    "Calc = LandEstimator()\n",
    "operation = True\n",
    "while operation:\n",
    "    print('''____LAND ESTIMATION CALCULATOR____\n",
    "1. Input Cost of the Land\n",
    "2. Input Material Costs\n",
    "3. Input Labour Costs\n",
    "4. Check Total Expenses\n",
    "5. Cancel\n",
    "    ''')\n",
    "    \n",
    "    option = input(\"What do you want to select:\")\n",
    "    if option == 1:\n",
    "        Calc.LandCost()\n",
    "    elif option == 2:\n",
    "        Calc.MaterialCost()\n",
    "    elif option == 3:\n",
    "        Calc.LaborCost()\n",
    "    elif option == 4:\n",
    "        Calc.CheckCost()\n",
    "    elif option == \"Cancel\":\n",
    "        operation = False\n",
    "        print(\"Operation Cancelled\")\n",
    "        break\n",
    "        \n",
    "else:\n",
    "    (\"Invalid Input\")"
   ]
  },
  {
   "cell_type": "code",
   "execution_count": 14,
   "id": "790a1f75",
   "metadata": {},
   "outputs": [
    {
     "name": "stdout",
     "output_type": "stream",
     "text": [
      "Enter first number:5\n",
      "Enter second number:0\n",
      "Choose operation option [+, -, *, /]:/\n",
      "You have encountered one or more errors\n"
     ]
    }
   ],
   "source": [
    "#error handling\n",
    "#try: test the block of codes for any potential error\n",
    "#except: returns the kind of error encountered by the try block\n",
    "#else: else is dependent on the try block\n",
    "#finally: will always execute regardless of any exception or not\n",
    "\n",
    "try:\n",
    "    num1 = int(input(\"Enter first number:\"))\n",
    "    num2 = int(input(\"Enter second number:\"))\n",
    "    option = input(\"Choose operation option [+, -, *, /]:\")\n",
    "    if option == \"+\":\n",
    "        print(f'{num1} + {num2} = {num1 + num2}')\n",
    "        \n",
    "    elif option == \"-\":\n",
    "        print(f'{num1} - {num2} = {num1 - num2}')\n",
    "        \n",
    "    elif option == \"*\":\n",
    "        print(f'{num1} * {num2} = {num1 * num2}')\n",
    "        \n",
    "    elif option == \"/\":\n",
    "        print(f'{num1} / {num2} = {num1 / num2}')\n",
    "        \n",
    "except:\n",
    "    print(\"You have encountered one or more errors\")"
   ]
  },
  {
   "cell_type": "code",
   "execution_count": 15,
   "id": "ca482f76",
   "metadata": {},
   "outputs": [
    {
     "name": "stdout",
     "output_type": "stream",
     "text": [
      "Enter first number:4\n",
      "Enter second number:f\n",
      "Wrong value for first or second number. Input only whole number\n"
     ]
    }
   ],
   "source": [
    "try:\n",
    "    num1 = int(input(\"Enter first number:\"))\n",
    "    num2 = int(input(\"Enter second number:\"))\n",
    "    option = input(\"Choose operation option [+, -, *, /]:\")\n",
    "    if option == \"+\":\n",
    "        print(f'{num1} + {num2} = {num1 + num2}')\n",
    "        \n",
    "    elif option == \"-\":\n",
    "        print(f'{num1} - {num2} = {num1 - num2}')\n",
    "        \n",
    "    elif option == \"*\":\n",
    "        print(f'{num1} * {num2} = {num1 * num2}')\n",
    "        \n",
    "    elif option == \"/\":\n",
    "        print(f'{num1} / {num2} = {num1 / num2}') \n",
    "        \n",
    "except ValueError:\n",
    "    print(\"Wrong value for first or second number. Input only whole number\")\n",
    "except ZeroDivisionError:\n",
    "    print(\"You cant divide a number by 0\")\n",
    "except:\n",
    "    print(\"You have encountered one or more errors\")"
   ]
  },
  {
   "cell_type": "code",
   "execution_count": 17,
   "id": "1ae2732a",
   "metadata": {},
   "outputs": [
    {
     "name": "stdout",
     "output_type": "stream",
     "text": [
      "Enter first number:5\n",
      "Enter second number:2\n",
      "Choose operation option [+, -, *, /]:*\n",
      "5 * 2 = 10\n",
      "25\n",
      "End of program\n"
     ]
    }
   ],
   "source": [
    "try:\n",
    "    num1 = int(input(\"Enter first number:\"))\n",
    "    num2 = int(input(\"Enter second number:\"))\n",
    "    option = input(\"Choose operation option [+, -, *, /]:\")\n",
    "    if option == \"+\":\n",
    "        print(f'{num1} + {num2} = {num1 + num2}')\n",
    "        \n",
    "    elif option == \"-\":\n",
    "        print(f'{num1} - {num2} = {num1 - num2}')\n",
    "        \n",
    "    elif option == \"*\":\n",
    "        print(f'{num1} * {num2} = {num1 * num2}')\n",
    "        \n",
    "    elif option == \"/\":\n",
    "        print(f'{num1} / {num2} = {num1 / num2}')\n",
    "        \n",
    "except ValueError:\n",
    "    print(\"Wrong value for first or second number. Input only whole number\")\n",
    "except ZeroDivisionError:\n",
    "    print(\"You cant divide a number by 0\")\n",
    "except:\n",
    "    print(\"You have encountered one or more errors\")\n",
    "else:\n",
    "    print(num1**num2)\n",
    "finally:\n",
    "    print(\"End of program\")"
   ]
  },
  {
   "cell_type": "code",
   "execution_count": 21,
   "id": "8ccb87a4",
   "metadata": {},
   "outputs": [
    {
     "name": "stdout",
     "output_type": "stream",
     "text": [
      "WELCOME TO DAVE REAL ESTATE MANAGEMENT BUILDING ESTIMATION CALCULATOR\n",
      "Enter the cost of the land: N300000\n",
      "Enter the total area of the building (in per meter square):1600\n",
      "Enter the cost per meter sqr for the building:40\n",
      "Enter the percentage of total cost for materials: 70\n",
      "Enter the percentage of total cost for labour:60\n",
      "ESTIMATION RESULT\n",
      "Land Cost: N300000.00\n",
      "Construction Cost: N64000.00\n",
      "Material Cost at (70.0) : N44800.00\n",
      "Labour Cost at (60.0): N38400.00\n",
      "Total Estimated Cost: N447200.00\n"
     ]
    }
   ],
   "source": [
    "def building_estimation_calculator():\n",
    "    print(\"WELCOME TO DAVE REAL ESTATE MANAGEMENT BUILDING ESTIMATION CALCULATOR\")\n",
    "#Get input from user\n",
    "    try:\n",
    "        land_cost = float(input(\"Enter the cost of the land: N\"))\n",
    "        building_area = float(input(\"Enter the total area of the building (in per meter square):\"))\n",
    "        cost_per_meter_sqr = float(input(\"Enter the cost per meter sqr for the building:\"))\n",
    "        material_cost_per = float(input(\"Enter the percentage of total cost for materials: \"))\n",
    "        labor_cost_per = float(input('Enter the percentage of total cost for labour:'))\n",
    "    except ValueError:\n",
    "        print('Please enter valid numerical values')\n",
    "    else:\n",
    "        const_cost = building_area * cost_per_meter_sqr\n",
    "        material_cost = (material_cost_per/100)* const_cost\n",
    "        labor_cost = (labor_cost_per/100)* const_cost\n",
    "        totalcost = land_cost + const_cost + material_cost + labor_cost\n",
    "    finally:\n",
    "        print(\"ESTIMATION RESULT\")\n",
    "        print(f\"Land Cost: N{land_cost:.2f}\")\n",
    "        print(f\"Construction Cost: N{const_cost:.2f}\")\n",
    "        print(f\"Material Cost at ({material_cost_per}) : N{material_cost:.2f}\")\n",
    "        print(f\"Labour Cost at ({labor_cost_per}): N{labor_cost:.2f}\")\n",
    "        print(f\"Total Estimated Cost: N{totalcost:.2f}\")\n",
    "building_estimation_calculator()"
   ]
  },
  {
   "cell_type": "code",
   "execution_count": 22,
   "id": "d66a7e5e",
   "metadata": {},
   "outputs": [
    {
     "name": "stdout",
     "output_type": "stream",
     "text": [
      "WELCOME TO DAVE REAL ESTATE MANAGEMENT BUILDING ESTIMATION CALCULATOR\n",
      "Enter the cost of the land: N600000\n",
      "Enter the total area of the building (in per meter square):1600\n",
      "Enter the cost per meter sqr for the building:40\n",
      "Enter the percentage of total cost for materials: 70\n",
      "Enter the percentage of total cost for labour:60\n",
      "ESTIMATION RESULT\n",
      "Land Cost: N600000.00\n",
      "Construction Cost: N64000.00\n",
      "Material Cost at (70.0) : N44800.00\n",
      "Labour Cost at (60.0): N38400.00\n",
      "Total Estimated Cost: N747200.00\n"
     ]
    }
   ],
   "source": [
    "def building_estimation_calculator():\n",
    "    print(\"WELCOME TO DAVE REAL ESTATE MANAGEMENT BUILDING ESTIMATION CALCULATOR\")\n",
    "#Get input from user\n",
    "    try:\n",
    "        land_cost = float(input(\"Enter the cost of the land: N\"))\n",
    "        building_area = float(input(\"Enter the total area of the building (in per meter square):\"))\n",
    "        cost_per_meter_sqr = float(input(\"Enter the cost per meter sqr for the building:\"))\n",
    "        material_cost_per = float(input(\"Enter the percentage of total cost for materials: \"))\n",
    "        labor_cost_per = float(input('Enter the percentage of total cost for labour:'))\n",
    "    except ValueError:\n",
    "        print('Please enter valid numerical values')\n",
    "    else:\n",
    "        const_cost = building_area * cost_per_meter_sqr\n",
    "        material_cost = (material_cost_per/100)* const_cost\n",
    "        labor_cost = (labor_cost_per/100)* const_cost\n",
    "        totalcost = land_cost + const_cost + material_cost + labor_cost\n",
    "    finally:\n",
    "        print(\"ESTIMATION RESULT\")\n",
    "        print(f\"Land Cost: N{land_cost:.2f}\")\n",
    "        print(f\"Construction Cost: N{const_cost:.2f}\")\n",
    "        print(f\"Material Cost at ({material_cost_per}) : N{material_cost:.2f}\")\n",
    "        print(f\"Labour Cost at ({labor_cost_per}): N{labor_cost:.2f}\")\n",
    "        print(f\"Total Estimated Cost: N{totalcost:.2f}\")\n",
    "building_estimation_calculator()\n",
    "#land cost is doubled thereby adds to the estimated costs being added to the construction, labour and material cost"
   ]
  }
 ],
 "metadata": {
  "kernelspec": {
   "display_name": "Python 3 (ipykernel)",
   "language": "python",
   "name": "python3"
  },
  "language_info": {
   "codemirror_mode": {
    "name": "ipython",
    "version": 3
   },
   "file_extension": ".py",
   "mimetype": "text/x-python",
   "name": "python",
   "nbconvert_exporter": "python",
   "pygments_lexer": "ipython3",
   "version": "3.11.5"
  }
 },
 "nbformat": 4,
 "nbformat_minor": 5
}
