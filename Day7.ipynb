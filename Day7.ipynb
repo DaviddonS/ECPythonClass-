{
 "cells": [
  {
   "cell_type": "code",
   "execution_count": 35,
   "id": "b5ff48af",
   "metadata": {
    "scrolled": true
   },
   "outputs": [
    {
     "name": "stdout",
     "output_type": "stream",
     "text": [
      "Enter your registration ID to check your resultST05\n",
      "___________________STUDENT FINAL REPORT__________________\n",
      "Name: Ola\n",
      "Gender: Male\n",
      "Python Assignment score: 89\n",
      "Python Exams score: 90\n",
      "Data Science Assignment Score: 82\n",
      "Data Science Exams score: 93\n",
      "The overall score is  354\n",
      "The average score is  88.5\n"
     ]
    }
   ],
   "source": [
    "def StudentChecker():\n",
    "    StudentScores = { \n",
    "    \"ST01\":{\"Name\":\"David\",\"Gender\": \"Male\",\"PythonAssignment\": 85,\"PythonExams\": 92,\n",
    "            \"DataScienceAssignment\": 90,\"DataScienceExams\": 85},\n",
    "    \"ST02\":{\"Name\":\"Jennifer\",\"Gender\": \"Female\",\"PythonAssignment\": 80,\"PythonExams\": 88,\n",
    "            \"DataScienceAssignment\": 85,\"DataScienceExams\": 90},\n",
    "    \"ST03\":{\"Name\":\"Daniella\",\"Gender\": \"Female\",\"PythonAssignment\": 75,\"PythonExams\": 80,\n",
    "            \"DataScienceAssignment\": 89,\"DataScienceExams\": 78},\n",
    "    \"ST04\":{\"Name\":\"Gabriel\",\"Gender\": \"Male\",\"PythonAssignment\": 87,\"PythonExams\": 82,\n",
    "            \"DataScienceAssignment\": 90,\"DataScienceExams\": 95},\n",
    "    \"ST05\":{\"Name\":\"Ola\",\"Gender\": \"Male\",\"PythonAssignment\": 89,\"PythonExams\": 90,\n",
    "            \"DataScienceAssignment\": 82,\"DataScienceExams\": 93},\n",
    "    \"ST06\":{\"Name\":\"Michael\",\"Gender\": \"Male\",\"PythonAssignment\": 78,\"PythonExams\": 80,\n",
    "            \"DataScienceAssignment\": 92,\"DataScienceExams\": 90},\n",
    "    \"ST07\":{\"Name\":\"Sarah\",\"Gender\": \"Female\",\"PythonAssignment\": 88,\"PythonExams\": 95,\n",
    "            \"DataScienceAssignment\": 84,\"DataScienceExams\": 96},\n",
    "    } \n",
    "    \n",
    "    reg_id = input(\"Enter your registration ID to check your result\")\n",
    "    for key in StudentScores:\n",
    "        if reg_id == key:\n",
    "            print('___________________STUDENT FINAL REPORT__________________')\n",
    "            print('Name:', StudentScores[key]['Name'] )\n",
    "            print('Gender:', StudentScores[key]['Gender'] )\n",
    "            print('Python Assignment score:', StudentScores[key]['PythonAssignment'] )\n",
    "            print('Python Exams score:', StudentScores[key]['PythonExams'] )\n",
    "            print('Data Science Assignment Score:', StudentScores[key]['DataScienceAssignment'])\n",
    "            print('Data Science Exams score:', StudentScores[key]['DataScienceExams'] )\n",
    "            Overall_score = (StudentScores[key]['PythonAssignment'] + StudentScores[key]['PythonExams'] + StudentScores[key]['DataScienceAssignment'] + StudentScores[key]['DataScienceExams'])\n",
    "            Average_score = Overall_score/4\n",
    "            print(\"The overall score is \", Overall_score)\n",
    "            print(\"The average score is \", Average_score)\n",
    "            break\n",
    "    else:\n",
    "        print(\"ID doesnt match registered student\")\n",
    "\n",
    "StudentChecker()\n",
    "\n",
    "\n"
   ]
  },
  {
   "cell_type": "code",
   "execution_count": 36,
   "id": "b5fe009a",
   "metadata": {},
   "outputs": [
    {
     "name": "stdout",
     "output_type": "stream",
     "text": [
      "20.875\n"
     ]
    }
   ],
   "source": [
    "#Functions with variable length\n",
    "\n",
    "#function with none keyword\n",
    "def average(*numbers):\n",
    "    avg = sum(numbers)/len(numbers)\n",
    "    print(avg)\n",
    "    \n",
    "\n",
    "average(12,15,17,18,22,25,28,30)"
   ]
  },
  {
   "cell_type": "code",
   "execution_count": 37,
   "id": "fcb383dd",
   "metadata": {},
   "outputs": [
    {
     "name": "stdout",
     "output_type": "stream",
     "text": [
      "['__builtins__', '__cached__', '__doc__', '__file__', '__loader__', '__name__', '__package__', '__spec__', 'average']\n"
     ]
    }
   ],
   "source": [
    "import mymodule\n",
    "print(dir(mymodule))"
   ]
  },
  {
   "cell_type": "code",
   "execution_count": 38,
   "id": "18a0e75a",
   "metadata": {},
   "outputs": [
    {
     "name": "stdout",
     "output_type": "stream",
     "text": [
      "79.5\n"
     ]
    }
   ],
   "source": [
    "mymodule.average(74,85)"
   ]
  },
  {
   "cell_type": "code",
   "execution_count": 45,
   "id": "09314ef8",
   "metadata": {},
   "outputs": [
    {
     "name": "stdout",
     "output_type": "stream",
     "text": [
      "Name : Ade\n"
     ]
    }
   ],
   "source": [
    "#function with a variable length of keyword argument\n",
    "def records(**details):\n",
    "    for key, value in details.items():\n",
    "        print(key, \":\", value)\n",
    "        \n",
    "records(Name = \"Ade\")"
   ]
  },
  {
   "cell_type": "code",
   "execution_count": 78,
   "id": "b02f018a",
   "metadata": {},
   "outputs": [
    {
     "name": "stdout",
     "output_type": "stream",
     "text": [
      "<class '__main__.MyClass'>\n",
      "10\n",
      "James\n",
      "Mary\n",
      "Kubwa\n",
      "The name of this student is  Akindele\n",
      "The name of our instructor is  Mr Simeon  and he is  28  years old\n",
      "Parent 1 attended  veritas\n"
     ]
    }
   ],
   "source": [
    "#class\n",
    "\n",
    "class MyClass:\n",
    "    x =5\n",
    "    y= 10\n",
    "    \n",
    "print(MyClass)\n",
    "\n",
    "#object\n",
    "p1=MyClass()\n",
    "print(p1.y)\n",
    "\n",
    "#attribute\n",
    "class Campus:\n",
    "    district = \"Kubwa\"\n",
    "    \n",
    "    def __init__(MyCamp, lastname, gender):\n",
    "        MyCamp.lastname = lastname\n",
    "        MyCamp.gender = gender\n",
    "        \n",
    "Student1=Campus(\"James\", \"male\")\n",
    "Student2=Campus(\"Mary\", \"female\")\n",
    "\n",
    "print(Student1.lastname)\n",
    "print(Student2.lastname)\n",
    "print(Student1.district)\n",
    "\n",
    "#method\n",
    "class Student:\n",
    "    def __init__(self, firstname, Id):\n",
    "        self.firstname = firstname\n",
    "        self.Id = Id\n",
    "        \n",
    "    def MyFunc(self):\n",
    "        print(\"The name of this student is \",  S1.firstname)\n",
    "        \n",
    "S1 = Student(\"Akindele\", \"A21\")\n",
    "S1.MyFunc()\n",
    "        \n",
    "\n",
    "#__init__\n",
    "class Instructor:\n",
    "    def __init__(self, name, age):\n",
    "        self.name = name\n",
    "        self.age = age\n",
    "        \n",
    "P1 = Instructor(\"Mr Simeon\", 28)\n",
    "print(\"The name of our instructor is \", P1.name , \" and he is \", P1.age , \" years old\")\n",
    "\n",
    "#self\n",
    "class Parent:\n",
    "    def __init__(MyData, school, number):\n",
    "        MyData.school = school\n",
    "        MyData.number = number\n",
    "        \n",
    "    def Funct(MyData):\n",
    "        print(\"Parent 1 attended \", MyData.school)\n",
    "        \n",
    "P5=Parent(\"veritas\", 855)\n",
    "P5.Funct()\n"
   ]
  },
  {
   "cell_type": "code",
   "execution_count": null,
   "id": "5df69358",
   "metadata": {},
   "outputs": [],
   "source": []
  }
 ],
 "metadata": {
  "kernelspec": {
   "display_name": "Python 3 (ipykernel)",
   "language": "python",
   "name": "python3"
  },
  "language_info": {
   "codemirror_mode": {
    "name": "ipython",
    "version": 3
   },
   "file_extension": ".py",
   "mimetype": "text/x-python",
   "name": "python",
   "nbconvert_exporter": "python",
   "pygments_lexer": "ipython3",
   "version": "3.11.5"
  }
 },
 "nbformat": 4,
 "nbformat_minor": 5
}
