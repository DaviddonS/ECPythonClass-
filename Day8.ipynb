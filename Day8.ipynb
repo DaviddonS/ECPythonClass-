{
 "cells": [
  {
   "cell_type": "code",
   "execution_count": 7,
   "id": "44e0006f",
   "metadata": {},
   "outputs": [
    {
     "name": "stdout",
     "output_type": "stream",
     "text": [
      "__________PERSON DETAILS______________\n",
      "NAME:Ade\n",
      "AGE:45\n",
      "\n"
     ]
    }
   ],
   "source": [
    "#a class is a defined blueprint or prototype. After every class an object must be created. \n",
    "#Object is an instance of a class or a copy of a class\n",
    "\n",
    "#class has two main properties: Attributes and methods\n",
    "#attributes are features of the class\n",
    "#method is talking about the behaviour of the class\n",
    "\n",
    "class person:\n",
    "    attr1 = \"Ade\"\n",
    "    attr2= 45\n",
    "    \n",
    "    def details(self):\n",
    "        print(f'''__________PERSON DETAILS______________\n",
    "NAME:{self.attr1}\n",
    "AGE:{self.attr2}\n",
    "''')\n",
    "\n",
    "P1=person()\n",
    "P1.details()"
   ]
  },
  {
   "cell_type": "code",
   "execution_count": 33,
   "id": "1b1fabcb",
   "metadata": {},
   "outputs": [
    {
     "name": "stdout",
     "output_type": "stream",
     "text": [
      "Enter your app password:2558\n",
      "\n",
      "1. DEPOSIT\n",
      "2. TRANSFER\n",
      "3. AIRTIME\n",
      "4. DATA\n",
      "5. CHECKBALANCE\n",
      "6. QUIT      \n",
      "\n",
      "Enter operation choice:quit\n",
      "Login out of app\n"
     ]
    }
   ],
   "source": [
    "class MonieApp:\n",
    "    def __init__(self):\n",
    "        self.balance = 0\n",
    "        \n",
    "    def deposit(self):\n",
    "        amount = float(input(\"Enter deposit amount:\"))\n",
    "        self.balance += amount\n",
    "        print(\"Transaction successful\")\n",
    "        \n",
    "    def transfer(self):\n",
    "        amount = float(input(\"Enter transfer amount:\"))\n",
    "        if amount > self.balance or amount == 0:\n",
    "            print(\"Transaction Failed, Insufficient Fund...\")\n",
    "        else:\n",
    "            self.balance -= amount\n",
    "            print(\"Transaction Successful\")\n",
    "            \n",
    "    def airtime(self):\n",
    "        amount = float(input(\"Enter airtime amount:\"))\n",
    "        if amount > self.balance or amount == 0:\n",
    "                print(\"Transaction Failed, Insufficient Fund\")\n",
    "        else:\n",
    "            self.balance -=amount\n",
    "            print(\"Transaction successful\")\n",
    "            \n",
    "                              \n",
    "    def data(self):\n",
    "        amount = float(input(\"Enter airtime amount:\"))\n",
    "        if amount > self.balance or amount == 0:\n",
    "                print(\"Transaction Failed, Insufficient Fund\")\n",
    "        else:\n",
    "            self.balance -=amount\n",
    "            print(\"Transaction successful\")\n",
    "                   \n",
    "    def checkbalance(self):\n",
    "        print(f\"Your available balance is {self.balance}\")\n",
    "              \n",
    "app = MonieApp()\n",
    "operation = True\n",
    "passcode = \"2558\"\n",
    "password = input(\"Enter your app password:\")\n",
    "if passcode == password:\n",
    "    while operation:\n",
    "        print('''\n",
    "1. DEPOSIT\n",
    "2. TRANSFER\n",
    "3. AIRTIME\n",
    "4. DATA\n",
    "5. CHECKBALANCE\n",
    "6. QUIT      \n",
    "''')\n",
    "        choice = input(\"Enter operation choice:\")\n",
    "        if choice == 'deposit':\n",
    "              app.deposit()\n",
    "        elif choice == 'transfer':\n",
    "              app.transfer()\n",
    "        elif choice == 'airtime':\n",
    "              app.airtime()\n",
    "        elif choice == 'data':\n",
    "              app.data()\n",
    "        elif choice == 'checkbalance':\n",
    "              app.checkbalance()\n",
    "        elif choice == 'quit':\n",
    "                operation = False\n",
    "                print(\"Login out of app\")\n",
    "                break      \n",
    "else:\n",
    "    print('Invalid password')\n",
    "              "
   ]
  },
  {
   "cell_type": "code",
   "execution_count": 2,
   "id": "9c84a36f",
   "metadata": {},
   "outputs": [
    {
     "name": "stdout",
     "output_type": "stream",
     "text": [
      "Enter audio option:stop\n",
      "Audio stopped playing\n"
     ]
    }
   ],
   "source": [
    "class Phonesimulation:\n",
    "    def __init__(Phone, brand, model, color, year):\n",
    "        Phone.brand = brand\n",
    "        Phone.model = model\n",
    "        Phone.color = color\n",
    "        Phone.year = year\n",
    "        \n",
    "    def audio(Phone):\n",
    "        option = input(\"Enter audio option:\")\n",
    "        if option == \"play\":\n",
    "            print(\"Audio playing\")\n",
    "        elif option == \"stop\":\n",
    "            print(\"Audio stopped playing\")\n",
    "            \n",
    "phone1= Phonesimulation(\"tecno\", \"P3\", \"blue\", 2022)\n",
    "phone1.audio()\n",
    "\n"
   ]
  },
  {
   "cell_type": "code",
   "execution_count": 13,
   "id": "aa6e102b",
   "metadata": {},
   "outputs": [
    {
     "name": "stdout",
     "output_type": "stream",
     "text": [
      "Enter camera option:selfie\n",
      "Front Camera activated\n",
      "Enter audio option:stop\n",
      "Audio stopped playing\n"
     ]
    }
   ],
   "source": [
    "class Anotherphonesimulation(Phonesimulation):\n",
    "    def camera(Phone):\n",
    "        option = input(\"Enter camera option:\")\n",
    "        if option == \"selfie\":\n",
    "            print(\"Front Camera activated\")\n",
    "        elif option == \"portrait\":\n",
    "            print(\"Rear Camera activated\")\n",
    "            \n",
    "phone2 = Anotherphonesimulation('Tecno', 'P4', \"black\", 2021)\n",
    "phone2.camera()\n",
    "phone2.audio()"
   ]
  },
  {
   "cell_type": "code",
   "execution_count": 28,
   "id": "81b82b25",
   "metadata": {},
   "outputs": [
    {
     "name": "stdout",
     "output_type": "stream",
     "text": [
      "The brand of this car is  BMW , its model is  656 , year  2023 , with colour  blue and its speed is  34km/h\n",
      "Choose to start the Car:Start\n",
      "Car has started motion\n",
      "Choose whether to change gear:Change Gear\n",
      "Choose whether to accelerate car:Accelerate\n",
      "Car is accelerating\n",
      "Choose whether to stop car:Continue\n",
      "Car will keep moving\n"
     ]
    }
   ],
   "source": [
    "#assignment\n",
    "class Carsimulation:\n",
    "    def __init__(car, brand, model, year, color, speed):\n",
    "        car.brand = brand\n",
    "        car.model = model\n",
    "        car.year = year\n",
    "        car.color = color\n",
    "        car.speed = speed\n",
    "        \n",
    "    def Start(car):\n",
    "        option = input(\"Choose to start the Car:\")\n",
    "        if option == \"Start\":\n",
    "            print(\"Car has started motion\")\n",
    "        elif option == \"Go off\":\n",
    "            print(\"Car has stopped motion\")\n",
    "            \n",
    "    def ChangeGear(car):\n",
    "        option = input(\"Choose whether to change gear:\")\n",
    "        if option == \"Change gear\":\n",
    "            print(\"Car has changed gear\")\n",
    "        elif option == \"Dont change gear\":\n",
    "            print(\"Car hasn't changed gear\")\n",
    "            \n",
    "    def Accelerate(car):\n",
    "        option = input(\"Choose whether to accelerate car:\")\n",
    "        if option == \"Accelerate\":\n",
    "            print(\"Car is accelerating\")\n",
    "        elif option == \"Deccelerate\":\n",
    "            print(\"Car is deccelarating\")\n",
    "            \n",
    "    def Stop(car):\n",
    "        option = input(\"Choose whether to stop car:\")\n",
    "        if option == \"Stop car\":\n",
    "            print(\"Car has thereby paused\")\n",
    "        elif option == \"Continue\":\n",
    "            print(\"Car will keep moving\")\n",
    "            \n",
    "    def Details(car):\n",
    "        print(\"The brand of this car is \", car.brand, \", its model is \", car.model, \", year \"\n",
    "              , car.year, \", with colour \", car.color, \"and its speed is \", car.speed)\n",
    "            \n",
    "Car1 = Carsimulation('BMW', 656, 2023, 'blue', \"34km/h\")\n",
    "Car1.Details()\n",
    "Car1.Start()\n",
    "Car1.ChangeGear()\n",
    "Car1.Accelerate()\n",
    "Car1.Stop()\n",
    "            \n",
    "            "
   ]
  },
  {
   "cell_type": "code",
   "execution_count": 30,
   "id": "77849bc5",
   "metadata": {},
   "outputs": [
    {
     "name": "stdout",
     "output_type": "stream",
     "text": [
      "Choose to check Plate Number: Check Plate Number\n",
      "The plate number of this car is BWR0473\n",
      "The brand of this car is  Mercedes , its model is  415 , year  2022 , with colour  red and its speed is  25km/h\n"
     ]
    }
   ],
   "source": [
    "class SecondCarSimulation(Carsimulation):\n",
    "    def PlateNo(car):\n",
    "        option = input(\"Choose to check Plate Number: \")\n",
    "        if option == \"Check Plate Number\":\n",
    "            print(\"The plate number of this car is BWR0473\")\n",
    "        elif option == \"Dont check\":\n",
    "            print(\"Plate number wont be displayed\")\n",
    "            \n",
    "Car2 = SecondCarSimulation('Mercedes', 415, 2022, 'red', '25km/h')\n",
    "Car2.PlateNo()\n",
    "Car2.Details()"
   ]
  },
  {
   "cell_type": "code",
   "execution_count": null,
   "id": "0537a876",
   "metadata": {},
   "outputs": [],
   "source": []
  }
 ],
 "metadata": {
  "kernelspec": {
   "display_name": "Python 3 (ipykernel)",
   "language": "python",
   "name": "python3"
  },
  "language_info": {
   "codemirror_mode": {
    "name": "ipython",
    "version": 3
   },
   "file_extension": ".py",
   "mimetype": "text/x-python",
   "name": "python",
   "nbconvert_exporter": "python",
   "pygments_lexer": "ipython3",
   "version": "3.11.5"
  }
 },
 "nbformat": 4,
 "nbformat_minor": 5
}
