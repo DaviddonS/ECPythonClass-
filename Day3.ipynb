{
 "cells": [
  {
   "cell_type": "code",
   "execution_count": null,
   "id": "d5b2674f",
   "metadata": {},
   "outputs": [],
   "source": [
    "#Tuple\n",
    "#Tuple is unchangable\n",
    "#Tuple must be in order\n",
    "#Tuple is denoted with ()\n",
    "## Tuple is an advanced data type\n",
    "## tuple can store diff data types"
   ]
  },
  {
   "cell_type": "code",
   "execution_count": 3,
   "id": "9348b91a",
   "metadata": {},
   "outputs": [],
   "source": [
    "numbers = (12, 56, 67, 87, 89, 90, 45,)"
   ]
  },
  {
   "cell_type": "code",
   "execution_count": 4,
   "id": "fbe6dcd3",
   "metadata": {},
   "outputs": [
    {
     "name": "stdout",
     "output_type": "stream",
     "text": [
      "<class 'tuple'>\n"
     ]
    }
   ],
   "source": [
    "print(type(numbers))"
   ]
  },
  {
   "cell_type": "code",
   "execution_count": 5,
   "id": "7ddeeaaf",
   "metadata": {},
   "outputs": [
    {
     "name": "stdout",
     "output_type": "stream",
     "text": [
      "7\n"
     ]
    }
   ],
   "source": [
    "print(len(numbers))"
   ]
  },
  {
   "cell_type": "code",
   "execution_count": 6,
   "id": "6b149be9",
   "metadata": {},
   "outputs": [
    {
     "name": "stdout",
     "output_type": "stream",
     "text": [
      "89\n"
     ]
    }
   ],
   "source": [
    "print(numbers[4])"
   ]
  },
  {
   "cell_type": "code",
   "execution_count": 7,
   "id": "950e46f6",
   "metadata": {},
   "outputs": [
    {
     "ename": "IndexError",
     "evalue": "tuple index out of range",
     "output_type": "error",
     "traceback": [
      "\u001b[1;31m---------------------------------------------------------------------------\u001b[0m",
      "\u001b[1;31mIndexError\u001b[0m                                Traceback (most recent call last)",
      "Cell \u001b[1;32mIn[7], line 1\u001b[0m\n\u001b[1;32m----> 1\u001b[0m \u001b[38;5;28mprint\u001b[39m(numbers[\u001b[38;5;241m10\u001b[39m])\n",
      "\u001b[1;31mIndexError\u001b[0m: tuple index out of range"
     ]
    }
   ],
   "source": [
    "print(numbers[10])"
   ]
  },
  {
   "cell_type": "code",
   "execution_count": 8,
   "id": "4ee6e450",
   "metadata": {},
   "outputs": [
    {
     "name": "stdout",
     "output_type": "stream",
     "text": [
      "89\n"
     ]
    }
   ],
   "source": [
    "print(numbers[-3])"
   ]
  },
  {
   "cell_type": "code",
   "execution_count": 9,
   "id": "8222768f",
   "metadata": {},
   "outputs": [
    {
     "name": "stdout",
     "output_type": "stream",
     "text": [
      "(67, 87, 89, 90)\n"
     ]
    }
   ],
   "source": [
    "print(numbers[2:6])"
   ]
  },
  {
   "cell_type": "code",
   "execution_count": 23,
   "id": "9d99c965",
   "metadata": {},
   "outputs": [
    {
     "ename": "NameError",
     "evalue": "name 'numbers' is not defined",
     "output_type": "error",
     "traceback": [
      "\u001b[1;31m---------------------------------------------------------------------------\u001b[0m",
      "\u001b[1;31mNameError\u001b[0m                                 Traceback (most recent call last)",
      "Cell \u001b[1;32mIn[23], line 1\u001b[0m\n\u001b[1;32m----> 1\u001b[0m \u001b[38;5;28mprint\u001b[39m(\u001b[38;5;241m100\u001b[39m \u001b[38;5;129;01min\u001b[39;00m numbers)\n",
      "\u001b[1;31mNameError\u001b[0m: name 'numbers' is not defined"
     ]
    }
   ],
   "source": [
    "print(100 in numbers)"
   ]
  },
  {
   "cell_type": "code",
   "execution_count": 11,
   "id": "b2ea3063",
   "metadata": {},
   "outputs": [
    {
     "name": "stdout",
     "output_type": "stream",
     "text": [
      "0\n"
     ]
    }
   ],
   "source": [
    "print(numbers.count (60))"
   ]
  },
  {
   "cell_type": "code",
   "execution_count": 12,
   "id": "d9b615fb",
   "metadata": {},
   "outputs": [
    {
     "name": "stdout",
     "output_type": "stream",
     "text": [
      "5\n"
     ]
    }
   ],
   "source": [
    "print(numbers.index(90))"
   ]
  },
  {
   "cell_type": "code",
   "execution_count": 13,
   "id": "f97aa825",
   "metadata": {},
   "outputs": [
    {
     "name": "stdout",
     "output_type": "stream",
     "text": [
      "3\n"
     ]
    }
   ],
   "source": [
    "print(numbers.index(87))"
   ]
  },
  {
   "cell_type": "code",
   "execution_count": 14,
   "id": "b420c7ae",
   "metadata": {},
   "outputs": [],
   "source": [
    "#List\n",
    "#List are changable not like tuples i.e you can add or remove \n",
    "#List is denoted with []\n",
    "# can be ordred or unordered\n",
    "# both list and tuple"
   ]
  },
  {
   "cell_type": "code",
   "execution_count": 2,
   "id": "2dc8b4fd",
   "metadata": {},
   "outputs": [],
   "source": [
    "shopA = ['Apple', 'Bucket', 'Strawberry', 'Lemon', 'Banana']"
   ]
  },
  {
   "cell_type": "code",
   "execution_count": 3,
   "id": "d0632bf6",
   "metadata": {},
   "outputs": [
    {
     "name": "stdout",
     "output_type": "stream",
     "text": [
      "['Apple', 'Bucket', 'Strawberry', 'Lemon', 'Banana', 'orange']\n"
     ]
    }
   ],
   "source": [
    "shopA.append('orange')\n",
    "print(shopA)"
   ]
  },
  {
   "cell_type": "code",
   "execution_count": 5,
   "id": "36626179",
   "metadata": {},
   "outputs": [
    {
     "name": "stdout",
     "output_type": "stream",
     "text": [
      "['Apple', 'Bucket', 'Strawberry', 'Lemon', 'Banana', 'orange', 'drive']\n"
     ]
    }
   ],
   "source": [
    "shopA.append('drive')\n",
    "print(shopA)"
   ]
  },
  {
   "cell_type": "code",
   "execution_count": 18,
   "id": "9fe0e06c",
   "metadata": {},
   "outputs": [],
   "source": [
    "#append - only adds at the ending\n",
    "#insert- you get to choose the location where it can be inserted\n",
    "#extend - adds a new or existing list to  another"
   ]
  },
  {
   "cell_type": "code",
   "execution_count": 20,
   "id": "7e6f706b",
   "metadata": {},
   "outputs": [
    {
     "name": "stdout",
     "output_type": "stream",
     "text": [
      "['Apple', 'Bucket', 'drive', 'Strawberry', 'Lemon', 'Banana', 'orange']\n"
     ]
    }
   ],
   "source": [
    "shopA.insert( 2, 'drive')\n",
    "print(shopA)"
   ]
  },
  {
   "cell_type": "code",
   "execution_count": 21,
   "id": "8ddca0a9",
   "metadata": {},
   "outputs": [],
   "source": [
    "shopB = ['burna', 'davido', 'wizkid']"
   ]
  },
  {
   "cell_type": "code",
   "execution_count": 22,
   "id": "b0d391ed",
   "metadata": {},
   "outputs": [
    {
     "name": "stdout",
     "output_type": "stream",
     "text": [
      "['Apple', 'Bucket', 'drive', 'Strawberry', 'Lemon', 'Banana', 'orange', 'burna', 'davido', 'wizkid']\n"
     ]
    }
   ],
   "source": [
    "shopA.extend(shopB)\n",
    "print(shopA)"
   ]
  },
  {
   "cell_type": "code",
   "execution_count": 23,
   "id": "06564ba1",
   "metadata": {},
   "outputs": [],
   "source": [
    "# pop & remove\n",
    "#any time you want to remove a value using pop u specify the index number\n",
    "#any time you want to remove a value using remove u specify the value number\n"
   ]
  },
  {
   "cell_type": "code",
   "execution_count": 24,
   "id": "fda86aac",
   "metadata": {},
   "outputs": [
    {
     "name": "stdout",
     "output_type": "stream",
     "text": [
      "['Bucket', 'drive', 'Strawberry', 'Lemon', 'Banana', 'orange', 'burna', 'davido', 'wizkid']\n"
     ]
    }
   ],
   "source": [
    "shopA.pop(0)\n",
    "print(shopA)"
   ]
  },
  {
   "cell_type": "code",
   "execution_count": 26,
   "id": "a41f6d51",
   "metadata": {},
   "outputs": [
    {
     "name": "stdout",
     "output_type": "stream",
     "text": [
      "['Bucket', 'drive', 'Strawberry', 'Banana', 'orange', 'burna', 'davido', 'wizkid']\n"
     ]
    }
   ],
   "source": [
    "shopA.remove('Lemon')\n",
    "print(shopA)"
   ]
  },
  {
   "cell_type": "code",
   "execution_count": 27,
   "id": "9d5de0ea",
   "metadata": {},
   "outputs": [],
   "source": [
    "#sort- arranges your value in acending order\n",
    "#reverse - arranges your value in desending order\n",
    "#copy- makes duplicate of my list\n",
    "#clear - clears the list\n",
    "#delete is a global function (not only applicable to list)"
   ]
  },
  {
   "cell_type": "code",
   "execution_count": 28,
   "id": "91c1ab88",
   "metadata": {},
   "outputs": [
    {
     "name": "stdout",
     "output_type": "stream",
     "text": [
      "['Banana', 'Bucket', 'Strawberry', 'burna', 'davido', 'drive', 'orange', 'wizkid']\n"
     ]
    }
   ],
   "source": [
    "shopA.sort()\n",
    "print(shopA)"
   ]
  },
  {
   "cell_type": "code",
   "execution_count": 29,
   "id": "fd959a7b",
   "metadata": {},
   "outputs": [
    {
     "name": "stdout",
     "output_type": "stream",
     "text": [
      "['wizkid', 'orange', 'drive', 'davido', 'burna', 'Strawberry', 'Bucket', 'Banana']\n"
     ]
    }
   ],
   "source": [
    "shopA.reverse()\n",
    "print(shopA)"
   ]
  },
  {
   "cell_type": "code",
   "execution_count": 30,
   "id": "7338bfc5",
   "metadata": {},
   "outputs": [
    {
     "name": "stdout",
     "output_type": "stream",
     "text": [
      "['wizkid', 'orange', 'drive', 'davido', 'burna', 'Strawberry', 'Bucket', 'Banana']\n"
     ]
    }
   ],
   "source": [
    "shopC = shopA.copy()\n",
    "print(shopC)"
   ]
  },
  {
   "cell_type": "code",
   "execution_count": 31,
   "id": "76fd0080",
   "metadata": {},
   "outputs": [
    {
     "name": "stdout",
     "output_type": "stream",
     "text": [
      "[]\n"
     ]
    }
   ],
   "source": [
    "shopC.clear()\n",
    "print(shopC)"
   ]
  },
  {
   "cell_type": "code",
   "execution_count": 32,
   "id": "b41a4c10",
   "metadata": {},
   "outputs": [
    {
     "ename": "NameError",
     "evalue": "name 'shopC' is not defined",
     "output_type": "error",
     "traceback": [
      "\u001b[1;31m---------------------------------------------------------------------------\u001b[0m",
      "\u001b[1;31mNameError\u001b[0m                                 Traceback (most recent call last)",
      "Cell \u001b[1;32mIn[32], line 2\u001b[0m\n\u001b[0;32m      1\u001b[0m \u001b[38;5;28;01mdel\u001b[39;00m(shopC)\n\u001b[1;32m----> 2\u001b[0m \u001b[38;5;28mprint\u001b[39m(shopC)\n",
      "\u001b[1;31mNameError\u001b[0m: name 'shopC' is not defined"
     ]
    }
   ],
   "source": [
    "del(shopC)\n",
    "print(shopC)"
   ]
  },
  {
   "cell_type": "code",
   "execution_count": 33,
   "id": "8363f16f",
   "metadata": {},
   "outputs": [],
   "source": [
    "#DICTIONARY{}\n",
    "#when creating a directionary, you create it with a pair of key and value"
   ]
  },
  {
   "cell_type": "code",
   "execution_count": 35,
   "id": "bec06c32",
   "metadata": {},
   "outputs": [
    {
     "name": "stdout",
     "output_type": "stream",
     "text": [
      "1.56\n"
     ]
    }
   ],
   "source": [
    "records = {\n",
    "    'Name':'Fatima',\n",
    "    'Age':67,\n",
    "    'Gender': 'Female',\n",
    "    'Height':1.56,\n",
    "    'Weight':60.5\n",
    "}\n",
    "print(records['Height'])"
   ]
  },
  {
   "cell_type": "code",
   "execution_count": 36,
   "id": "9429e761",
   "metadata": {},
   "outputs": [
    {
     "name": "stdout",
     "output_type": "stream",
     "text": [
      "{'Name': 'Fatima', 'Age': 67, 'Gender': 'Female', 'Height': 1.56, 'Weight': 60.5, 'Address': 'No 25 Highway street'}\n"
     ]
    }
   ],
   "source": [
    "records['Address'] = 'No 25 Highway street'\n",
    "print(records)"
   ]
  },
  {
   "cell_type": "code",
   "execution_count": 37,
   "id": "667b8bfe",
   "metadata": {},
   "outputs": [
    {
     "name": "stdout",
     "output_type": "stream",
     "text": [
      "{'Name': 'Fatima', 'Age': 67, 'Gender': 'Female', 'Height': 1.999, 'Weight': 60.5, 'Address': 'No 25 Highway street'}\n"
     ]
    }
   ],
   "source": [
    "newval = {'Height':1.999}\n",
    "records.update(newval)\n",
    "print(records)"
   ]
  },
  {
   "cell_type": "code",
   "execution_count": 38,
   "id": "b57caf95",
   "metadata": {},
   "outputs": [],
   "source": [
    "#2 days to delete from our dic\n",
    "#pop & pop item\n",
    "# popitem deletes the last pair of key and value in the dic\n"
   ]
  },
  {
   "cell_type": "code",
   "execution_count": 39,
   "id": "ce6b27f4",
   "metadata": {},
   "outputs": [
    {
     "name": "stdout",
     "output_type": "stream",
     "text": [
      "{'Name': 'Fatima', 'Age': 67, 'Gender': 'Female', 'Height': 1.999, 'Weight': 60.5}\n"
     ]
    }
   ],
   "source": [
    "records.popitem()\n",
    "print(records)"
   ]
  },
  {
   "cell_type": "code",
   "execution_count": 106,
   "id": "f3349e36",
   "metadata": {},
   "outputs": [
    {
     "ename": "NameError",
     "evalue": "name 'records' is not defined",
     "output_type": "error",
     "traceback": [
      "\u001b[1;31m---------------------------------------------------------------------------\u001b[0m",
      "\u001b[1;31mNameError\u001b[0m                                 Traceback (most recent call last)",
      "Cell \u001b[1;32mIn[106], line 1\u001b[0m\n\u001b[1;32m----> 1\u001b[0m records\u001b[38;5;241m.\u001b[39mpop(\u001b[38;5;124m'\u001b[39m\u001b[38;5;124mAge\u001b[39m\u001b[38;5;124m'\u001b[39m)\n\u001b[0;32m      2\u001b[0m \u001b[38;5;28mprint\u001b[39m(records)\n",
      "\u001b[1;31mNameError\u001b[0m: name 'records' is not defined"
     ]
    }
   ],
   "source": [
    "records.pop('Age')\n",
    "print(records)"
   ]
  },
  {
   "cell_type": "code",
   "execution_count": 46,
   "id": "8ab974f5",
   "metadata": {},
   "outputs": [
    {
     "name": "stdout",
     "output_type": "stream",
     "text": [
      "dict_keys(['Name', 'Gender', 'Height', 'Weight'])\n"
     ]
    }
   ],
   "source": [
    "print(records.keys())"
   ]
  },
  {
   "cell_type": "code",
   "execution_count": 47,
   "id": "8dc4f8c6",
   "metadata": {},
   "outputs": [
    {
     "name": "stdout",
     "output_type": "stream",
     "text": [
      "dict_values(['Fatima', 'Female', 1.999, 60.5])\n"
     ]
    }
   ],
   "source": [
    "print(records.values())"
   ]
  },
  {
   "cell_type": "code",
   "execution_count": 48,
   "id": "ed8a254f",
   "metadata": {},
   "outputs": [
    {
     "name": "stdout",
     "output_type": "stream",
     "text": [
      "dict_items([('Name', 'Fatima'), ('Gender', 'Female'), ('Height', 1.999), ('Weight', 60.5)])\n"
     ]
    }
   ],
   "source": [
    "print(records.items())"
   ]
  },
  {
   "cell_type": "code",
   "execution_count": 49,
   "id": "dbee7b73",
   "metadata": {},
   "outputs": [
    {
     "name": "stdout",
     "output_type": "stream",
     "text": [
      "Bisi\n"
     ]
    }
   ],
   "source": [
    "records = {\n",
    "    'Name' : ['Ade', 'Bisi', 'James'],\n",
    "}\n",
    "print(records['Name'][1])"
   ]
  },
  {
   "cell_type": "code",
   "execution_count": 97,
   "id": "b397db77",
   "metadata": {},
   "outputs": [
    {
     "name": "stdout",
     "output_type": "stream",
     "text": [
      "(4, 5, 6, 7)\n"
     ]
    }
   ],
   "source": [
    "t1 = (1,2,3)\n",
    "t2= (4,5,6)\n",
    "print(t2 + (7,))"
   ]
  },
  {
   "cell_type": "code",
   "execution_count": 17,
   "id": "b6591318",
   "metadata": {},
   "outputs": [
    {
     "name": "stdout",
     "output_type": "stream",
     "text": [
      "(1, 2, 3, 1, 2, 3, 1, 2, 3)\n"
     ]
    }
   ],
   "source": [
    "print(t1*3)"
   ]
  },
  {
   "cell_type": "code",
   "execution_count": 18,
   "id": "f30e5bc5",
   "metadata": {},
   "outputs": [
    {
     "name": "stdout",
     "output_type": "stream",
     "text": [
      "(2, 3)\n"
     ]
    }
   ],
   "source": [
    "print(t1[1:])"
   ]
  },
  {
   "cell_type": "code",
   "execution_count": 19,
   "id": "62623713",
   "metadata": {},
   "outputs": [
    {
     "name": "stdout",
     "output_type": "stream",
     "text": [
      "(2, 3)\n"
     ]
    }
   ],
   "source": [
    "print(t1[1:])"
   ]
  },
  {
   "cell_type": "code",
   "execution_count": 20,
   "id": "a1431cdf",
   "metadata": {},
   "outputs": [
    {
     "name": "stdout",
     "output_type": "stream",
     "text": [
      "(1,)\n"
     ]
    }
   ],
   "source": [
    "print(t1[:1])"
   ]
  },
  {
   "cell_type": "code",
   "execution_count": 21,
   "id": "a617c520",
   "metadata": {},
   "outputs": [
    {
     "name": "stdout",
     "output_type": "stream",
     "text": [
      "(1, 2)\n"
     ]
    }
   ],
   "source": [
    "print(t1[:2])"
   ]
  },
  {
   "cell_type": "code",
   "execution_count": 26,
   "id": "6f90c18e",
   "metadata": {},
   "outputs": [
    {
     "name": "stdout",
     "output_type": "stream",
     "text": [
      "False\n"
     ]
    }
   ],
   "source": [
    "print (5 in t1)"
   ]
  },
  {
   "cell_type": "code",
   "execution_count": 27,
   "id": "a61b9b02",
   "metadata": {},
   "outputs": [
    {
     "name": "stdout",
     "output_type": "stream",
     "text": [
      "12\n"
     ]
    }
   ],
   "source": [
    "t5=(12,13,15,17,15,18,19,22,15,26,29,26)\n",
    "print(len(t5))"
   ]
  },
  {
   "cell_type": "code",
   "execution_count": 28,
   "id": "8ad9eabb",
   "metadata": {},
   "outputs": [
    {
     "name": "stdout",
     "output_type": "stream",
     "text": [
      "3\n"
     ]
    }
   ],
   "source": [
    "print(t5.count(15))"
   ]
  },
  {
   "cell_type": "code",
   "execution_count": 29,
   "id": "b82c83a1",
   "metadata": {},
   "outputs": [
    {
     "name": "stdout",
     "output_type": "stream",
     "text": [
      "0\n"
     ]
    }
   ],
   "source": [
    "print(t5.count(32))"
   ]
  },
  {
   "cell_type": "code",
   "execution_count": 30,
   "id": "544d5588",
   "metadata": {},
   "outputs": [
    {
     "name": "stdout",
     "output_type": "stream",
     "text": [
      "9\n"
     ]
    }
   ],
   "source": [
    "print(t5.index(26))"
   ]
  },
  {
   "cell_type": "code",
   "execution_count": 31,
   "id": "f0e72283",
   "metadata": {},
   "outputs": [
    {
     "name": "stdout",
     "output_type": "stream",
     "text": [
      "2\n"
     ]
    }
   ],
   "source": [
    "print(t5.index(15))"
   ]
  },
  {
   "cell_type": "code",
   "execution_count": 32,
   "id": "30b39226",
   "metadata": {},
   "outputs": [
    {
     "name": "stdout",
     "output_type": "stream",
     "text": [
      "2\n"
     ]
    }
   ],
   "source": [
    "print(t5.index(15))"
   ]
  },
  {
   "cell_type": "code",
   "execution_count": 35,
   "id": "3e1638e2",
   "metadata": {},
   "outputs": [
    {
     "name": "stdout",
     "output_type": "stream",
     "text": [
      "[12, 'Jeff', 56.75, 'Abj']\n"
     ]
    }
   ],
   "source": [
    "#List\n",
    "my_list = [12, 'Jeff', 56.75, 'Abj']\n",
    "print(my_list)"
   ]
  },
  {
   "cell_type": "code",
   "execution_count": 56,
   "id": "87be5753",
   "metadata": {},
   "outputs": [
    {
     "name": "stdout",
     "output_type": "stream",
     "text": [
      "12\n"
     ]
    }
   ],
   "source": [
    "print(my_list[-4])"
   ]
  },
  {
   "cell_type": "code",
   "execution_count": 41,
   "id": "3c871e66",
   "metadata": {},
   "outputs": [
    {
     "name": "stdout",
     "output_type": "stream",
     "text": [
      "['H', 'e', 'l', 'l', 'o']\n"
     ]
    }
   ],
   "source": [
    "word = list('Hello')\n",
    "print(word)"
   ]
  },
  {
   "cell_type": "code",
   "execution_count": 43,
   "id": "cc60132d",
   "metadata": {},
   "outputs": [
    {
     "name": "stdout",
     "output_type": "stream",
     "text": [
      "[1, 2, 3, 4]\n"
     ]
    }
   ],
   "source": [
    "T2=list((1,2,3,4))\n",
    "print(T2)"
   ]
  },
  {
   "cell_type": "code",
   "execution_count": 44,
   "id": "47049f22",
   "metadata": {},
   "outputs": [
    {
     "name": "stdout",
     "output_type": "stream",
     "text": [
      "1\n",
      "2\n",
      "3\n",
      "4\n"
     ]
    }
   ],
   "source": [
    "for char in T2:\n",
    "    print (char)"
   ]
  },
  {
   "cell_type": "code",
   "execution_count": 45,
   "id": "7f6db338",
   "metadata": {},
   "outputs": [
    {
     "name": "stdout",
     "output_type": "stream",
     "text": [
      "<class 'list'>\n",
      "['Dave', 'Ayo', 'Ola', 'Mark']\n"
     ]
    }
   ],
   "source": [
    "Male = ['Dave', 'Ayo', 'Ola', 'Mark']\n",
    "print(type(Male))\n",
    "print(Male)"
   ]
  },
  {
   "cell_type": "code",
   "execution_count": 46,
   "id": "38c3fa18",
   "metadata": {},
   "outputs": [
    {
     "name": "stdout",
     "output_type": "stream",
     "text": [
      "['Dave', 'Ayo', 'Ola', 'Mark', 'James']\n"
     ]
    }
   ],
   "source": [
    "Male.append('James')\n",
    "print(Male)"
   ]
  },
  {
   "cell_type": "code",
   "execution_count": 47,
   "id": "e88abb13",
   "metadata": {},
   "outputs": [
    {
     "name": "stdout",
     "output_type": "stream",
     "text": [
      "['Afo', 'Dave', 'Ayo', 'Ola', 'Mark', 'James']\n"
     ]
    }
   ],
   "source": [
    "Male.insert(0, 'Afo')\n",
    "print(Male)"
   ]
  },
  {
   "cell_type": "code",
   "execution_count": 48,
   "id": "0372378c",
   "metadata": {},
   "outputs": [
    {
     "name": "stdout",
     "output_type": "stream",
     "text": [
      "['Afo', 'Dave', 'Ayo', 'Ola', 'Mark', 'James', 'lois', 'peace', 'joy']\n"
     ]
    }
   ],
   "source": [
    "female=['lois', 'peace', 'joy']\n",
    "Male.extend(female)\n",
    "print(Male)"
   ]
  },
  {
   "cell_type": "code",
   "execution_count": 49,
   "id": "c1ca6f00",
   "metadata": {},
   "outputs": [
    {
     "name": "stdout",
     "output_type": "stream",
     "text": [
      "['Afo', 'Sarah', 'Dave', 'Ayo', 'Ola', 'Mark', 'James', 'lois', 'peace', 'joy']\n"
     ]
    }
   ],
   "source": [
    "Male.insert(1, 'Sarah')\n",
    "print(Male)"
   ]
  },
  {
   "cell_type": "code",
   "execution_count": 50,
   "id": "26bd6cca",
   "metadata": {},
   "outputs": [
    {
     "name": "stdout",
     "output_type": "stream",
     "text": [
      "['lois', 'peace', 'joy']\n"
     ]
    }
   ],
   "source": [
    "print(female)"
   ]
  },
  {
   "cell_type": "code",
   "execution_count": 52,
   "id": "bbdfff68",
   "metadata": {},
   "outputs": [
    {
     "name": "stdout",
     "output_type": "stream",
     "text": [
      "('sing', 'song')\n"
     ]
    }
   ],
   "source": [
    "song= ('sing', 'song')\n",
    "print(song)"
   ]
  },
  {
   "cell_type": "code",
   "execution_count": 53,
   "id": "3f056ca3",
   "metadata": {},
   "outputs": [
    {
     "name": "stdout",
     "output_type": "stream",
     "text": [
      "['Afo', 'Sarah', 'Dave', 'Ayo', 'Ola', 'Mark', 'James', 'lois', 'peace', 'joy']\n"
     ]
    }
   ],
   "source": [
    "print(Male)"
   ]
  },
  {
   "cell_type": "code",
   "execution_count": 57,
   "id": "4650cff0",
   "metadata": {},
   "outputs": [
    {
     "name": "stdout",
     "output_type": "stream",
     "text": [
      "['Afo', 'Sarah', 'Ayo', 'Ola', 'Mark', 'James', 'lois', 'peace', 'joy']\n"
     ]
    }
   ],
   "source": [
    "Male.pop(2)\n",
    "print(Male)"
   ]
  },
  {
   "cell_type": "code",
   "execution_count": 58,
   "id": "70e4fc32",
   "metadata": {},
   "outputs": [
    {
     "name": "stdout",
     "output_type": "stream",
     "text": [
      "['Afo', 'Sarah', 'Ola', 'Mark', 'James', 'lois', 'peace', 'joy']\n"
     ]
    }
   ],
   "source": [
    "Male.remove('Ayo')\n",
    "print(Male)"
   ]
  },
  {
   "cell_type": "code",
   "execution_count": 59,
   "id": "d8423d30",
   "metadata": {},
   "outputs": [
    {
     "name": "stdout",
     "output_type": "stream",
     "text": [
      "['Afo', 'James', 'Mark', 'Ola', 'Sarah', 'joy', 'lois', 'peace']\n"
     ]
    }
   ],
   "source": [
    "Male.sort()\n",
    "print(Male)"
   ]
  },
  {
   "cell_type": "code",
   "execution_count": 60,
   "id": "7a80a3e7",
   "metadata": {},
   "outputs": [
    {
     "name": "stdout",
     "output_type": "stream",
     "text": [
      "['peace', 'lois', 'joy', 'Sarah', 'Ola', 'Mark', 'James', 'Afo']\n"
     ]
    }
   ],
   "source": [
    "Male.reverse()\n",
    "print(Male)"
   ]
  },
  {
   "cell_type": "code",
   "execution_count": 65,
   "id": "d2450aaf",
   "metadata": {},
   "outputs": [
    {
     "name": "stdout",
     "output_type": "stream",
     "text": [
      "5\n"
     ]
    }
   ],
   "source": [
    "print(Male.index('Mark'))\n"
   ]
  },
  {
   "cell_type": "code",
   "execution_count": 66,
   "id": "d6f3a440",
   "metadata": {},
   "outputs": [
    {
     "name": "stdout",
     "output_type": "stream",
     "text": [
      "['peace', 'lois', 'joy', 'Sarah', 'Ola', 'Mark', 'James', 'Afo']\n"
     ]
    }
   ],
   "source": [
    "newNames = Male.copy()\n",
    "print(newNames)"
   ]
  },
  {
   "cell_type": "code",
   "execution_count": 67,
   "id": "fa8274b9",
   "metadata": {},
   "outputs": [
    {
     "name": "stdout",
     "output_type": "stream",
     "text": [
      "['peace', 'lois', 'joy', 'Sarah', 'Ola', 'Mark', 'James']\n"
     ]
    }
   ],
   "source": [
    "newNames.pop()\n",
    "print(newNames)"
   ]
  },
  {
   "cell_type": "code",
   "execution_count": 73,
   "id": "b4793f5a",
   "metadata": {},
   "outputs": [
    {
     "name": "stdout",
     "output_type": "stream",
     "text": [
      "[]\n"
     ]
    }
   ],
   "source": [
    "print(newNames)"
   ]
  },
  {
   "cell_type": "code",
   "execution_count": 74,
   "id": "1dbc8ff1",
   "metadata": {},
   "outputs": [
    {
     "name": "stdout",
     "output_type": "stream",
     "text": [
      "['mark', 'james']\n"
     ]
    }
   ],
   "source": [
    "old = ['mark', 'james']\n",
    "newNames.extend(old)\n",
    "print(newNames)"
   ]
  },
  {
   "cell_type": "code",
   "execution_count": 75,
   "id": "e7c1788d",
   "metadata": {},
   "outputs": [
    {
     "ename": "NameError",
     "evalue": "name 'newNames' is not defined",
     "output_type": "error",
     "traceback": [
      "\u001b[1;31m---------------------------------------------------------------------------\u001b[0m",
      "\u001b[1;31mNameError\u001b[0m                                 Traceback (most recent call last)",
      "Cell \u001b[1;32mIn[75], line 2\u001b[0m\n\u001b[0;32m      1\u001b[0m \u001b[38;5;28;01mdel\u001b[39;00m newNames\n\u001b[1;32m----> 2\u001b[0m \u001b[38;5;28mprint\u001b[39m(newNames)\n",
      "\u001b[1;31mNameError\u001b[0m: name 'newNames' is not defined"
     ]
    }
   ],
   "source": [
    "del newNames\n",
    "print(newNames)"
   ]
  },
  {
   "cell_type": "code",
   "execution_count": 76,
   "id": "84b600b8",
   "metadata": {},
   "outputs": [
    {
     "name": "stdout",
     "output_type": "stream",
     "text": [
      "{('Parker', 'Reynolds', 'Camlin'): 'pen', ('LG', 'Whirlpool', 'Smamsung'): 'Refrigerator'}\n"
     ]
    }
   ],
   "source": [
    "#dictionary\n",
    "Items={\n",
    "    (\"Parker\", \"Reynolds\", \"Camlin\"):\"pen\", (\"LG\", \"Whirlpool\", \"Smamsung\"): \"Refrigerator\"\n",
    "}\n",
    "\n",
    "print(Items)"
   ]
  },
  {
   "cell_type": "code",
   "execution_count": 79,
   "id": "39234709",
   "metadata": {},
   "outputs": [
    {
     "name": "stdout",
     "output_type": "stream",
     "text": [
      "6\n"
     ]
    }
   ],
   "source": [
    "Games={\n",
    "    \"Fifa\": 24,\n",
    "    \"GTA\": 5,\n",
    "    \"Mortal Kombat\": 23,\n",
    "    \"NBA\": 20,\n",
    "    \"GTA\": 6\n",
    "    \n",
    "}\n",
    "print(Games[\"GTA\"])"
   ]
  },
  {
   "cell_type": "code",
   "execution_count": 80,
   "id": "7257c25a",
   "metadata": {},
   "outputs": [
    {
     "name": "stdout",
     "output_type": "stream",
     "text": [
      "{'I': 'one', 'II': 'two', 'III': 'three'}\n"
     ]
    }
   ],
   "source": [
    "numdict= dict(I=\"one\", II=\"two\", III=\"three\")\n",
    "print(numdict)"
   ]
  },
  {
   "cell_type": "code",
   "execution_count": 82,
   "id": "50ce18a6",
   "metadata": {},
   "outputs": [
    {
     "name": "stdout",
     "output_type": "stream",
     "text": [
      "two\n"
     ]
    }
   ],
   "source": [
    "print(numdict[\"II\"])"
   ]
  },
  {
   "cell_type": "code",
   "execution_count": 83,
   "id": "b4525f71",
   "metadata": {},
   "outputs": [
    {
     "name": "stdout",
     "output_type": "stream",
     "text": [
      "three\n"
     ]
    }
   ],
   "source": [
    "print(numdict.get(\"III\"))"
   ]
  },
  {
   "cell_type": "code",
   "execution_count": 85,
   "id": "a6323e74",
   "metadata": {},
   "outputs": [
    {
     "name": "stdout",
     "output_type": "stream",
     "text": [
      "None\n"
     ]
    }
   ],
   "source": [
    "print(numdict.get(\"IV\"))"
   ]
  },
  {
   "cell_type": "code",
   "execution_count": 88,
   "id": "71e39824",
   "metadata": {},
   "outputs": [
    {
     "name": "stdout",
     "output_type": "stream",
     "text": [
      "Key = I, Value = one\n",
      "Key = II, Value = two\n",
      "Key = III, Value = three\n"
     ]
    }
   ],
   "source": [
    "#for loop in dic\n",
    "for nums in numdict:\n",
    "    print(\"Key = \" + nums + \", Value = \" + numdict[nums])"
   ]
  },
  {
   "cell_type": "code",
   "execution_count": 89,
   "id": "9a851d83",
   "metadata": {},
   "outputs": [
    {
     "name": "stdout",
     "output_type": "stream",
     "text": [
      "III\n"
     ]
    }
   ],
   "source": [
    "print(nums)"
   ]
  },
  {
   "cell_type": "code",
   "execution_count": 90,
   "id": "6b10bc79",
   "metadata": {},
   "outputs": [
    {
     "name": "stdout",
     "output_type": "stream",
     "text": [
      "{'I': 'one', 'II': 'two', 'III': 'three'}\n"
     ]
    }
   ],
   "source": [
    "print(numdict)"
   ]
  },
  {
   "cell_type": "code",
   "execution_count": 91,
   "id": "79dfbfa9",
   "metadata": {},
   "outputs": [
    {
     "name": "stdout",
     "output_type": "stream",
     "text": [
      "{'I': 'one', 'II': 'two', 'III': 'three', 'IV': 4}\n"
     ]
    }
   ],
   "source": [
    "numdict[\"IV\"]= 4\n",
    "print(numdict)"
   ]
  },
  {
   "cell_type": "code",
   "execution_count": 92,
   "id": "3fbf7c41",
   "metadata": {},
   "outputs": [
    {
     "name": "stdout",
     "output_type": "stream",
     "text": [
      "{'I': 'one', 'II': 'two', 'III': 'three', 'IV': 5}\n"
     ]
    }
   ],
   "source": [
    "correction = {'IV' : 5}\n",
    "numdict.update(correction)\n",
    "print(numdict)"
   ]
  },
  {
   "cell_type": "code",
   "execution_count": 93,
   "id": "2597c745",
   "metadata": {},
   "outputs": [
    {
     "name": "stdout",
     "output_type": "stream",
     "text": [
      "{'I': 'one', 'II': 'two', 'III': 'three'}\n"
     ]
    }
   ],
   "source": [
    "numdict.popitem()\n",
    "print(numdict)"
   ]
  },
  {
   "cell_type": "code",
   "execution_count": 94,
   "id": "8dd41b10",
   "metadata": {},
   "outputs": [
    {
     "name": "stdout",
     "output_type": "stream",
     "text": [
      "{'I': 'one', 'II': 'two', 'III': 'three', 'IV': 4}\n"
     ]
    }
   ],
   "source": [
    "numdict[\"IV\"] = 4\n",
    "print(numdict)"
   ]
  },
  {
   "cell_type": "code",
   "execution_count": 95,
   "id": "13c0b35e",
   "metadata": {},
   "outputs": [
    {
     "name": "stdout",
     "output_type": "stream",
     "text": [
      "{'I': 'one', 'II': 'two', 'III': 'three'}\n"
     ]
    }
   ],
   "source": [
    "del numdict[\"IV\"]\n",
    "print(numdict)"
   ]
  },
  {
   "cell_type": "code",
   "execution_count": 102,
   "id": "b4eb1a28",
   "metadata": {},
   "outputs": [
    {
     "name": "stdout",
     "output_type": "stream",
     "text": [
      "{'I': 'one', 'II': 'two'}\n"
     ]
    }
   ],
   "source": [
    "print(numdict)"
   ]
  },
  {
   "cell_type": "code",
   "execution_count": 103,
   "id": "3faf8c16",
   "metadata": {},
   "outputs": [
    {
     "name": "stdout",
     "output_type": "stream",
     "text": [
      "popped element is  two\n"
     ]
    }
   ],
   "source": [
    "deletevalue= numdict.pop('II')\n",
    "print(\"popped element is \", deletevalue)"
   ]
  },
  {
   "cell_type": "code",
   "execution_count": 104,
   "id": "6df04b2b",
   "metadata": {},
   "outputs": [
    {
     "name": "stdout",
     "output_type": "stream",
     "text": [
      "two\n"
     ]
    }
   ],
   "source": [
    "print(deletevalue)"
   ]
  },
  {
   "cell_type": "code",
   "execution_count": 105,
   "id": "5ea0732d",
   "metadata": {},
   "outputs": [
    {
     "name": "stdout",
     "output_type": "stream",
     "text": [
      "{'I': 'one'}\n"
     ]
    }
   ],
   "source": [
    "print(numdict)"
   ]
  },
  {
   "cell_type": "code",
   "execution_count": null,
   "id": "644a3b3e",
   "metadata": {},
   "outputs": [],
   "source": [
    "newdelete ="
   ]
  }
 ],
 "metadata": {
  "kernelspec": {
   "display_name": "Python 3 (ipykernel)",
   "language": "python",
   "name": "python3"
  },
  "language_info": {
   "codemirror_mode": {
    "name": "ipython",
    "version": 3
   },
   "file_extension": ".py",
   "mimetype": "text/x-python",
   "name": "python",
   "nbconvert_exporter": "python",
   "pygments_lexer": "ipython3",
   "version": "3.11.5"
  }
 },
 "nbformat": 4,
 "nbformat_minor": 5
}
